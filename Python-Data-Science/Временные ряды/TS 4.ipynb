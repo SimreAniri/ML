{
 "cells": [
  {
   "cell_type": "code",
   "execution_count": 1,
   "metadata": {
    "ExecuteTime": {
     "end_time": "2020-05-14T12:17:43.471612Z",
     "start_time": "2020-05-14T12:17:40.971700Z"
    },
    "_cell_guid": "b1076dfc-b9ad-4769-8c92-a6c4dae69d19",
    "_uuid": "8f2839f25d086af736a60e9eeb907d3b93b6e0e5"
   },
   "outputs": [],
   "source": [
    "%matplotlib inline\n",
    "import matplotlib.pyplot as plt\n",
    "\n",
    "import numpy as np\n",
    "import pandas as pd \n",
    "\n",
    "from sklearn.metrics import mean_squared_error\n",
    "import statsmodels.api as sm"
   ]
  },
  {
   "cell_type": "markdown",
   "metadata": {},
   "source": [
    "## Прочитайте базу my_PJME_MW.csv и сделайте ее перерасчет (ресемплинг) в представление по неделям."
   ]
  },
  {
   "cell_type": "code",
   "execution_count": 2,
   "metadata": {
    "ExecuteTime": {
     "end_time": "2020-05-14T12:17:43.642354Z",
     "start_time": "2020-05-14T12:17:43.473863Z"
    }
   },
   "outputs": [
    {
     "data": {
      "text/html": [
       "<div>\n",
       "<style scoped>\n",
       "    .dataframe tbody tr th:only-of-type {\n",
       "        vertical-align: middle;\n",
       "    }\n",
       "\n",
       "    .dataframe tbody tr th {\n",
       "        vertical-align: top;\n",
       "    }\n",
       "\n",
       "    .dataframe thead th {\n",
       "        text-align: right;\n",
       "    }\n",
       "</style>\n",
       "<table border=\"1\" class=\"dataframe\">\n",
       "  <thead>\n",
       "    <tr style=\"text-align: right;\">\n",
       "      <th></th>\n",
       "      <th>Time</th>\n",
       "      <th>PJME_MW</th>\n",
       "      <th>year</th>\n",
       "      <th>month</th>\n",
       "      <th>dayofmonth</th>\n",
       "      <th>quarter</th>\n",
       "      <th>dayofyear</th>\n",
       "      <th>weekofyear</th>\n",
       "      <th>dayofweek</th>\n",
       "      <th>hour</th>\n",
       "      <th>is_holiday</th>\n",
       "      <th>is_prev_holiday</th>\n",
       "      <th>is_next_holiday</th>\n",
       "    </tr>\n",
       "    <tr>\n",
       "      <th>Date</th>\n",
       "      <th></th>\n",
       "      <th></th>\n",
       "      <th></th>\n",
       "      <th></th>\n",
       "      <th></th>\n",
       "      <th></th>\n",
       "      <th></th>\n",
       "      <th></th>\n",
       "      <th></th>\n",
       "      <th></th>\n",
       "      <th></th>\n",
       "      <th></th>\n",
       "      <th></th>\n",
       "    </tr>\n",
       "  </thead>\n",
       "  <tbody>\n",
       "    <tr>\n",
       "      <th>2002-01-01</th>\n",
       "      <td>01:00:00</td>\n",
       "      <td>30393.0</td>\n",
       "      <td>2002</td>\n",
       "      <td>1</td>\n",
       "      <td>1</td>\n",
       "      <td>1</td>\n",
       "      <td>1</td>\n",
       "      <td>1</td>\n",
       "      <td>1</td>\n",
       "      <td>1</td>\n",
       "      <td>1</td>\n",
       "      <td>0</td>\n",
       "      <td>0</td>\n",
       "    </tr>\n",
       "    <tr>\n",
       "      <th>2002-01-01</th>\n",
       "      <td>02:00:00</td>\n",
       "      <td>29265.0</td>\n",
       "      <td>2002</td>\n",
       "      <td>1</td>\n",
       "      <td>1</td>\n",
       "      <td>1</td>\n",
       "      <td>1</td>\n",
       "      <td>1</td>\n",
       "      <td>1</td>\n",
       "      <td>2</td>\n",
       "      <td>1</td>\n",
       "      <td>0</td>\n",
       "      <td>0</td>\n",
       "    </tr>\n",
       "    <tr>\n",
       "      <th>2002-01-01</th>\n",
       "      <td>03:00:00</td>\n",
       "      <td>28357.0</td>\n",
       "      <td>2002</td>\n",
       "      <td>1</td>\n",
       "      <td>1</td>\n",
       "      <td>1</td>\n",
       "      <td>1</td>\n",
       "      <td>1</td>\n",
       "      <td>1</td>\n",
       "      <td>3</td>\n",
       "      <td>1</td>\n",
       "      <td>0</td>\n",
       "      <td>0</td>\n",
       "    </tr>\n",
       "    <tr>\n",
       "      <th>2002-01-01</th>\n",
       "      <td>04:00:00</td>\n",
       "      <td>27899.0</td>\n",
       "      <td>2002</td>\n",
       "      <td>1</td>\n",
       "      <td>1</td>\n",
       "      <td>1</td>\n",
       "      <td>1</td>\n",
       "      <td>1</td>\n",
       "      <td>1</td>\n",
       "      <td>4</td>\n",
       "      <td>1</td>\n",
       "      <td>0</td>\n",
       "      <td>0</td>\n",
       "    </tr>\n",
       "    <tr>\n",
       "      <th>2002-01-01</th>\n",
       "      <td>05:00:00</td>\n",
       "      <td>28057.0</td>\n",
       "      <td>2002</td>\n",
       "      <td>1</td>\n",
       "      <td>1</td>\n",
       "      <td>1</td>\n",
       "      <td>1</td>\n",
       "      <td>1</td>\n",
       "      <td>1</td>\n",
       "      <td>5</td>\n",
       "      <td>1</td>\n",
       "      <td>0</td>\n",
       "      <td>0</td>\n",
       "    </tr>\n",
       "  </tbody>\n",
       "</table>\n",
       "</div>"
      ],
      "text/plain": [
       "                Time  PJME_MW  year  month  dayofmonth  quarter  dayofyear  \\\n",
       "Date                                                                         \n",
       "2002-01-01  01:00:00  30393.0  2002      1           1        1          1   \n",
       "2002-01-01  02:00:00  29265.0  2002      1           1        1          1   \n",
       "2002-01-01  03:00:00  28357.0  2002      1           1        1          1   \n",
       "2002-01-01  04:00:00  27899.0  2002      1           1        1          1   \n",
       "2002-01-01  05:00:00  28057.0  2002      1           1        1          1   \n",
       "\n",
       "            weekofyear  dayofweek  hour  is_holiday  is_prev_holiday  \\\n",
       "Date                                                                   \n",
       "2002-01-01           1          1     1           1                0   \n",
       "2002-01-01           1          1     2           1                0   \n",
       "2002-01-01           1          1     3           1                0   \n",
       "2002-01-01           1          1     4           1                0   \n",
       "2002-01-01           1          1     5           1                0   \n",
       "\n",
       "            is_next_holiday  \n",
       "Date                         \n",
       "2002-01-01                0  \n",
       "2002-01-01                0  \n",
       "2002-01-01                0  \n",
       "2002-01-01                0  \n",
       "2002-01-01                0  "
      ]
     },
     "execution_count": 2,
     "metadata": {},
     "output_type": "execute_result"
    }
   ],
   "source": [
    "Path_Energy = 'my_PJME_MW.csv'\n",
    "data = pd.read_csv(Path_Energy, index_col=[0], parse_dates=[0])\n",
    "\n",
    "data.head()"
   ]
  },
  {
   "cell_type": "code",
   "execution_count": 3,
   "metadata": {
    "ExecuteTime": {
     "end_time": "2020-05-14T12:17:43.971360Z",
     "start_time": "2020-05-14T12:17:43.644735Z"
    }
   },
   "outputs": [
    {
     "data": {
      "image/png": "[encoded data removed]",
      "text/plain": [
       "<Figure size 1440x288 with 1 Axes>"
      ]
     },
     "metadata": {
      "needs_background": "light"
     },
     "output_type": "display_data"
    }
   ],
   "source": [
    "plt.figure(figsize =(20,4))\n",
    "plt.plot( data.index, data['PJME_MW'], 'b' )\n",
    "plt.title('PJM East потребление энергии' )\n",
    "plt.ylabel ( 'МВт' )\n",
    "plt.show()"
   ]
  },
  {
   "cell_type": "code",
   "execution_count": 4,
   "metadata": {
    "ExecuteTime": {
     "end_time": "2020-05-14T12:17:44.262238Z",
     "start_time": "2020-05-14T12:17:44.208996Z"
    }
   },
   "outputs": [
    {
     "data": {
      "text/html": [
       "<div>\n",
       "<style scoped>\n",
       "    .dataframe tbody tr th:only-of-type {\n",
       "        vertical-align: middle;\n",
       "    }\n",
       "\n",
       "    .dataframe tbody tr th {\n",
       "        vertical-align: top;\n",
       "    }\n",
       "\n",
       "    .dataframe thead th {\n",
       "        text-align: right;\n",
       "    }\n",
       "</style>\n",
       "<table border=\"1\" class=\"dataframe\">\n",
       "  <thead>\n",
       "    <tr style=\"text-align: right;\">\n",
       "      <th></th>\n",
       "      <th>PJME_MW</th>\n",
       "      <th>year</th>\n",
       "      <th>month</th>\n",
       "      <th>dayofmonth</th>\n",
       "      <th>quarter</th>\n",
       "      <th>dayofyear</th>\n",
       "      <th>weekofyear</th>\n",
       "      <th>dayofweek</th>\n",
       "      <th>hour</th>\n",
       "      <th>is_holiday</th>\n",
       "      <th>is_prev_holiday</th>\n",
       "      <th>is_next_holiday</th>\n",
       "    </tr>\n",
       "    <tr>\n",
       "      <th>Date</th>\n",
       "      <th></th>\n",
       "      <th></th>\n",
       "      <th></th>\n",
       "      <th></th>\n",
       "      <th></th>\n",
       "      <th></th>\n",
       "      <th></th>\n",
       "      <th></th>\n",
       "      <th></th>\n",
       "      <th></th>\n",
       "      <th></th>\n",
       "      <th></th>\n",
       "    </tr>\n",
       "  </thead>\n",
       "  <tbody>\n",
       "    <tr>\n",
       "      <th>2002-01-06</th>\n",
       "      <td>32392.160839</td>\n",
       "      <td>2002.0</td>\n",
       "      <td>1.000000</td>\n",
       "      <td>3.517483</td>\n",
       "      <td>1.0</td>\n",
       "      <td>3.517483</td>\n",
       "      <td>1.0</td>\n",
       "      <td>3.517483</td>\n",
       "      <td>11.580420</td>\n",
       "      <td>0.160839</td>\n",
       "      <td>0.000000</td>\n",
       "      <td>0.167832</td>\n",
       "    </tr>\n",
       "    <tr>\n",
       "      <th>2002-01-13</th>\n",
       "      <td>31487.386905</td>\n",
       "      <td>2002.0</td>\n",
       "      <td>1.000000</td>\n",
       "      <td>10.000000</td>\n",
       "      <td>1.0</td>\n",
       "      <td>10.000000</td>\n",
       "      <td>2.0</td>\n",
       "      <td>3.000000</td>\n",
       "      <td>11.500000</td>\n",
       "      <td>0.000000</td>\n",
       "      <td>0.000000</td>\n",
       "      <td>0.000000</td>\n",
       "    </tr>\n",
       "    <tr>\n",
       "      <th>2002-01-20</th>\n",
       "      <td>31452.880952</td>\n",
       "      <td>2002.0</td>\n",
       "      <td>1.000000</td>\n",
       "      <td>17.000000</td>\n",
       "      <td>1.0</td>\n",
       "      <td>17.000000</td>\n",
       "      <td>3.0</td>\n",
       "      <td>3.000000</td>\n",
       "      <td>11.500000</td>\n",
       "      <td>0.000000</td>\n",
       "      <td>0.142857</td>\n",
       "      <td>0.000000</td>\n",
       "    </tr>\n",
       "    <tr>\n",
       "      <th>2002-01-27</th>\n",
       "      <td>30141.529762</td>\n",
       "      <td>2002.0</td>\n",
       "      <td>1.000000</td>\n",
       "      <td>24.000000</td>\n",
       "      <td>1.0</td>\n",
       "      <td>24.000000</td>\n",
       "      <td>4.0</td>\n",
       "      <td>3.000000</td>\n",
       "      <td>11.500000</td>\n",
       "      <td>0.142857</td>\n",
       "      <td>0.000000</td>\n",
       "      <td>0.142857</td>\n",
       "    </tr>\n",
       "    <tr>\n",
       "      <th>2002-02-03</th>\n",
       "      <td>29196.488095</td>\n",
       "      <td>2002.0</td>\n",
       "      <td>1.428571</td>\n",
       "      <td>17.714286</td>\n",
       "      <td>1.0</td>\n",
       "      <td>31.000000</td>\n",
       "      <td>5.0</td>\n",
       "      <td>3.000000</td>\n",
       "      <td>11.500000</td>\n",
       "      <td>0.000000</td>\n",
       "      <td>0.000000</td>\n",
       "      <td>0.000000</td>\n",
       "    </tr>\n",
       "    <tr>\n",
       "      <th>2002-02-10</th>\n",
       "      <td>31150.517857</td>\n",
       "      <td>2002.0</td>\n",
       "      <td>2.000000</td>\n",
       "      <td>7.000000</td>\n",
       "      <td>1.0</td>\n",
       "      <td>38.000000</td>\n",
       "      <td>6.0</td>\n",
       "      <td>3.000000</td>\n",
       "      <td>11.500000</td>\n",
       "      <td>0.000000</td>\n",
       "      <td>0.000000</td>\n",
       "      <td>0.000000</td>\n",
       "    </tr>\n",
       "    <tr>\n",
       "      <th>2002-02-17</th>\n",
       "      <td>30616.565476</td>\n",
       "      <td>2002.0</td>\n",
       "      <td>2.000000</td>\n",
       "      <td>14.000000</td>\n",
       "      <td>1.0</td>\n",
       "      <td>45.000000</td>\n",
       "      <td>7.0</td>\n",
       "      <td>3.000000</td>\n",
       "      <td>11.500000</td>\n",
       "      <td>0.000000</td>\n",
       "      <td>0.142857</td>\n",
       "      <td>0.000000</td>\n",
       "    </tr>\n",
       "    <tr>\n",
       "      <th>2002-02-24</th>\n",
       "      <td>29144.130952</td>\n",
       "      <td>2002.0</td>\n",
       "      <td>2.000000</td>\n",
       "      <td>21.000000</td>\n",
       "      <td>1.0</td>\n",
       "      <td>52.000000</td>\n",
       "      <td>8.0</td>\n",
       "      <td>3.000000</td>\n",
       "      <td>11.500000</td>\n",
       "      <td>0.142857</td>\n",
       "      <td>0.000000</td>\n",
       "      <td>0.142857</td>\n",
       "    </tr>\n",
       "    <tr>\n",
       "      <th>2002-03-03</th>\n",
       "      <td>29869.011905</td>\n",
       "      <td>2002.0</td>\n",
       "      <td>2.428571</td>\n",
       "      <td>16.000000</td>\n",
       "      <td>1.0</td>\n",
       "      <td>59.000000</td>\n",
       "      <td>9.0</td>\n",
       "      <td>3.000000</td>\n",
       "      <td>11.500000</td>\n",
       "      <td>0.000000</td>\n",
       "      <td>0.000000</td>\n",
       "      <td>0.000000</td>\n",
       "    </tr>\n",
       "    <tr>\n",
       "      <th>2002-03-10</th>\n",
       "      <td>29440.910714</td>\n",
       "      <td>2002.0</td>\n",
       "      <td>3.000000</td>\n",
       "      <td>7.000000</td>\n",
       "      <td>1.0</td>\n",
       "      <td>66.000000</td>\n",
       "      <td>10.0</td>\n",
       "      <td>3.000000</td>\n",
       "      <td>11.500000</td>\n",
       "      <td>0.000000</td>\n",
       "      <td>0.000000</td>\n",
       "      <td>0.000000</td>\n",
       "    </tr>\n",
       "    <tr>\n",
       "      <th>2002-03-17</th>\n",
       "      <td>28672.779762</td>\n",
       "      <td>2002.0</td>\n",
       "      <td>3.000000</td>\n",
       "      <td>14.000000</td>\n",
       "      <td>1.0</td>\n",
       "      <td>73.000000</td>\n",
       "      <td>11.0</td>\n",
       "      <td>3.000000</td>\n",
       "      <td>11.500000</td>\n",
       "      <td>0.000000</td>\n",
       "      <td>0.000000</td>\n",
       "      <td>0.000000</td>\n",
       "    </tr>\n",
       "    <tr>\n",
       "      <th>2002-03-24</th>\n",
       "      <td>29927.488095</td>\n",
       "      <td>2002.0</td>\n",
       "      <td>3.000000</td>\n",
       "      <td>21.000000</td>\n",
       "      <td>1.0</td>\n",
       "      <td>80.000000</td>\n",
       "      <td>12.0</td>\n",
       "      <td>3.000000</td>\n",
       "      <td>11.500000</td>\n",
       "      <td>0.000000</td>\n",
       "      <td>0.000000</td>\n",
       "      <td>0.000000</td>\n",
       "    </tr>\n",
       "    <tr>\n",
       "      <th>2002-03-31</th>\n",
       "      <td>27595.869048</td>\n",
       "      <td>2002.0</td>\n",
       "      <td>3.000000</td>\n",
       "      <td>28.000000</td>\n",
       "      <td>1.0</td>\n",
       "      <td>87.000000</td>\n",
       "      <td>13.0</td>\n",
       "      <td>3.000000</td>\n",
       "      <td>11.500000</td>\n",
       "      <td>0.000000</td>\n",
       "      <td>0.000000</td>\n",
       "      <td>0.000000</td>\n",
       "    </tr>\n",
       "    <tr>\n",
       "      <th>2002-04-07</th>\n",
       "      <td>28308.778443</td>\n",
       "      <td>2002.0</td>\n",
       "      <td>4.000000</td>\n",
       "      <td>3.982036</td>\n",
       "      <td>2.0</td>\n",
       "      <td>93.982036</td>\n",
       "      <td>14.0</td>\n",
       "      <td>2.982036</td>\n",
       "      <td>11.550898</td>\n",
       "      <td>0.000000</td>\n",
       "      <td>0.000000</td>\n",
       "      <td>0.000000</td>\n",
       "    </tr>\n",
       "    <tr>\n",
       "      <th>2002-04-14</th>\n",
       "      <td>27182.482143</td>\n",
       "      <td>2002.0</td>\n",
       "      <td>4.000000</td>\n",
       "      <td>11.000000</td>\n",
       "      <td>2.0</td>\n",
       "      <td>101.000000</td>\n",
       "      <td>15.0</td>\n",
       "      <td>3.000000</td>\n",
       "      <td>11.500000</td>\n",
       "      <td>0.000000</td>\n",
       "      <td>0.000000</td>\n",
       "      <td>0.000000</td>\n",
       "    </tr>\n",
       "  </tbody>\n",
       "</table>\n",
       "</div>"
      ],
      "text/plain": [
       "                 PJME_MW    year     month  dayofmonth  quarter   dayofyear  \\\n",
       "Date                                                                          \n",
       "2002-01-06  32392.160839  2002.0  1.000000    3.517483      1.0    3.517483   \n",
       "2002-01-13  31487.386905  2002.0  1.000000   10.000000      1.0   10.000000   \n",
       "2002-01-20  31452.880952  2002.0  1.000000   17.000000      1.0   17.000000   \n",
       "2002-01-27  30141.529762  2002.0  1.000000   24.000000      1.0   24.000000   \n",
       "2002-02-03  29196.488095  2002.0  1.428571   17.714286      1.0   31.000000   \n",
       "2002-02-10  31150.517857  2002.0  2.000000    7.000000      1.0   38.000000   \n",
       "2002-02-17  30616.565476  2002.0  2.000000   14.000000      1.0   45.000000   \n",
       "2002-02-24  29144.130952  2002.0  2.000000   21.000000      1.0   52.000000   \n",
       "2002-03-03  29869.011905  2002.0  2.428571   16.000000      1.0   59.000000   \n",
       "2002-03-10  29440.910714  2002.0  3.000000    7.000000      1.0   66.000000   \n",
       "2002-03-17  28672.779762  2002.0  3.000000   14.000000      1.0   73.000000   \n",
       "2002-03-24  29927.488095  2002.0  3.000000   21.000000      1.0   80.000000   \n",
       "2002-03-31  27595.869048  2002.0  3.000000   28.000000      1.0   87.000000   \n",
       "2002-04-07  28308.778443  2002.0  4.000000    3.982036      2.0   93.982036   \n",
       "2002-04-14  27182.482143  2002.0  4.000000   11.000000      2.0  101.000000   \n",
       "\n",
       "            weekofyear  dayofweek       hour  is_holiday  is_prev_holiday  \\\n",
       "Date                                                                        \n",
       "2002-01-06         1.0   3.517483  11.580420    0.160839         0.000000   \n",
       "2002-01-13         2.0   3.000000  11.500000    0.000000         0.000000   \n",
       "2002-01-20         3.0   3.000000  11.500000    0.000000         0.142857   \n",
       "2002-01-27         4.0   3.000000  11.500000    0.142857         0.000000   \n",
       "2002-02-03         5.0   3.000000  11.500000    0.000000         0.000000   \n",
       "2002-02-10         6.0   3.000000  11.500000    0.000000         0.000000   \n",
       "2002-02-17         7.0   3.000000  11.500000    0.000000         0.142857   \n",
       "2002-02-24         8.0   3.000000  11.500000    0.142857         0.000000   \n",
       "2002-03-03         9.0   3.000000  11.500000    0.000000         0.000000   \n",
       "2002-03-10        10.0   3.000000  11.500000    0.000000         0.000000   \n",
       "2002-03-17        11.0   3.000000  11.500000    0.000000         0.000000   \n",
       "2002-03-24        12.0   3.000000  11.500000    0.000000         0.000000   \n",
       "2002-03-31        13.0   3.000000  11.500000    0.000000         0.000000   \n",
       "2002-04-07        14.0   2.982036  11.550898    0.000000         0.000000   \n",
       "2002-04-14        15.0   3.000000  11.500000    0.000000         0.000000   \n",
       "\n",
       "            is_next_holiday  \n",
       "Date                         \n",
       "2002-01-06         0.167832  \n",
       "2002-01-13         0.000000  \n",
       "2002-01-20         0.000000  \n",
       "2002-01-27         0.142857  \n",
       "2002-02-03         0.000000  \n",
       "2002-02-10         0.000000  \n",
       "2002-02-17         0.000000  \n",
       "2002-02-24         0.142857  \n",
       "2002-03-03         0.000000  \n",
       "2002-03-10         0.000000  \n",
       "2002-03-17         0.000000  \n",
       "2002-03-24         0.000000  \n",
       "2002-03-31         0.000000  \n",
       "2002-04-07         0.000000  \n",
       "2002-04-14         0.000000  "
      ]
     },
     "execution_count": 4,
     "metadata": {},
     "output_type": "execute_result"
    }
   ],
   "source": [
    "data_d = data.copy().resample('W').mean()\n",
    "data_d.head(15)"
   ]
  },
  {
   "cell_type": "markdown",
   "metadata": {},
   "source": [
    "Удалим данные о часах, днях в неделе, в месяце и в году т.к. они потеряли актуальность"
   ]
  },
  {
   "cell_type": "code",
   "execution_count": 5,
   "metadata": {
    "ExecuteTime": {
     "end_time": "2020-05-14T12:17:44.284488Z",
     "start_time": "2020-05-14T12:17:44.264286Z"
    }
   },
   "outputs": [],
   "source": [
    "data_d.drop('hour', axis=1, inplace=True)\n",
    "data_d.drop('dayofweek', axis=1, inplace=True)\n",
    "data_d.drop('dayofmonth', axis=1, inplace=True)\n",
    "data_d.drop('dayofyear', axis=1, inplace=True)"
   ]
  },
  {
   "cell_type": "markdown",
   "metadata": {},
   "source": [
    "Поскольку в годовом развороте ряда тренда нет (временные ряды 2 и 3), то признак 'year' можно исключить."
   ]
  },
  {
   "cell_type": "code",
   "execution_count": 6,
   "metadata": {
    "ExecuteTime": {
     "end_time": "2020-05-14T12:17:44.292853Z",
     "start_time": "2020-05-14T12:17:44.288581Z"
    }
   },
   "outputs": [],
   "source": [
    "data_d.drop('year', axis=1,inplace=True)"
   ]
  },
  {
   "cell_type": "code",
   "execution_count": 7,
   "metadata": {
    "ExecuteTime": {
     "end_time": "2020-05-14T12:17:44.315398Z",
     "start_time": "2020-05-14T12:17:44.295652Z"
    }
   },
   "outputs": [
    {
     "data": {
      "text/html": [
       "<div>\n",
       "<style scoped>\n",
       "    .dataframe tbody tr th:only-of-type {\n",
       "        vertical-align: middle;\n",
       "    }\n",
       "\n",
       "    .dataframe tbody tr th {\n",
       "        vertical-align: top;\n",
       "    }\n",
       "\n",
       "    .dataframe thead th {\n",
       "        text-align: right;\n",
       "    }\n",
       "</style>\n",
       "<table border=\"1\" class=\"dataframe\">\n",
       "  <thead>\n",
       "    <tr style=\"text-align: right;\">\n",
       "      <th></th>\n",
       "      <th>PJME_MW</th>\n",
       "      <th>month</th>\n",
       "      <th>quarter</th>\n",
       "      <th>weekofyear</th>\n",
       "      <th>is_holiday</th>\n",
       "      <th>is_prev_holiday</th>\n",
       "      <th>is_next_holiday</th>\n",
       "    </tr>\n",
       "    <tr>\n",
       "      <th>Date</th>\n",
       "      <th></th>\n",
       "      <th></th>\n",
       "      <th></th>\n",
       "      <th></th>\n",
       "      <th></th>\n",
       "      <th></th>\n",
       "      <th></th>\n",
       "    </tr>\n",
       "  </thead>\n",
       "  <tbody>\n",
       "    <tr>\n",
       "      <th>2002-01-06</th>\n",
       "      <td>32392.160839</td>\n",
       "      <td>1.000000</td>\n",
       "      <td>1.0</td>\n",
       "      <td>1.0</td>\n",
       "      <td>0.160839</td>\n",
       "      <td>0.000000</td>\n",
       "      <td>0.167832</td>\n",
       "    </tr>\n",
       "    <tr>\n",
       "      <th>2002-01-13</th>\n",
       "      <td>31487.386905</td>\n",
       "      <td>1.000000</td>\n",
       "      <td>1.0</td>\n",
       "      <td>2.0</td>\n",
       "      <td>0.000000</td>\n",
       "      <td>0.000000</td>\n",
       "      <td>0.000000</td>\n",
       "    </tr>\n",
       "    <tr>\n",
       "      <th>2002-01-20</th>\n",
       "      <td>31452.880952</td>\n",
       "      <td>1.000000</td>\n",
       "      <td>1.0</td>\n",
       "      <td>3.0</td>\n",
       "      <td>0.000000</td>\n",
       "      <td>0.142857</td>\n",
       "      <td>0.000000</td>\n",
       "    </tr>\n",
       "    <tr>\n",
       "      <th>2002-01-27</th>\n",
       "      <td>30141.529762</td>\n",
       "      <td>1.000000</td>\n",
       "      <td>1.0</td>\n",
       "      <td>4.0</td>\n",
       "      <td>0.142857</td>\n",
       "      <td>0.000000</td>\n",
       "      <td>0.142857</td>\n",
       "    </tr>\n",
       "    <tr>\n",
       "      <th>2002-02-03</th>\n",
       "      <td>29196.488095</td>\n",
       "      <td>1.428571</td>\n",
       "      <td>1.0</td>\n",
       "      <td>5.0</td>\n",
       "      <td>0.000000</td>\n",
       "      <td>0.000000</td>\n",
       "      <td>0.000000</td>\n",
       "    </tr>\n",
       "    <tr>\n",
       "      <th>...</th>\n",
       "      <td>...</td>\n",
       "      <td>...</td>\n",
       "      <td>...</td>\n",
       "      <td>...</td>\n",
       "      <td>...</td>\n",
       "      <td>...</td>\n",
       "      <td>...</td>\n",
       "    </tr>\n",
       "    <tr>\n",
       "      <th>2018-07-08</th>\n",
       "      <td>38459.982143</td>\n",
       "      <td>7.000000</td>\n",
       "      <td>3.0</td>\n",
       "      <td>27.0</td>\n",
       "      <td>0.142857</td>\n",
       "      <td>0.142857</td>\n",
       "      <td>0.142857</td>\n",
       "    </tr>\n",
       "    <tr>\n",
       "      <th>2018-07-15</th>\n",
       "      <td>36420.035714</td>\n",
       "      <td>7.000000</td>\n",
       "      <td>3.0</td>\n",
       "      <td>28.0</td>\n",
       "      <td>0.000000</td>\n",
       "      <td>0.000000</td>\n",
       "      <td>0.000000</td>\n",
       "    </tr>\n",
       "    <tr>\n",
       "      <th>2018-07-22</th>\n",
       "      <td>35612.095238</td>\n",
       "      <td>7.000000</td>\n",
       "      <td>3.0</td>\n",
       "      <td>29.0</td>\n",
       "      <td>0.000000</td>\n",
       "      <td>0.000000</td>\n",
       "      <td>0.000000</td>\n",
       "    </tr>\n",
       "    <tr>\n",
       "      <th>2018-07-29</th>\n",
       "      <td>36581.821429</td>\n",
       "      <td>7.000000</td>\n",
       "      <td>3.0</td>\n",
       "      <td>30.0</td>\n",
       "      <td>0.000000</td>\n",
       "      <td>0.000000</td>\n",
       "      <td>0.000000</td>\n",
       "    </tr>\n",
       "    <tr>\n",
       "      <th>2018-08-05</th>\n",
       "      <td>36568.804124</td>\n",
       "      <td>7.505155</td>\n",
       "      <td>3.0</td>\n",
       "      <td>31.0</td>\n",
       "      <td>0.000000</td>\n",
       "      <td>0.000000</td>\n",
       "      <td>0.000000</td>\n",
       "    </tr>\n",
       "  </tbody>\n",
       "</table>\n",
       "<p>866 rows × 7 columns</p>\n",
       "</div>"
      ],
      "text/plain": [
       "                 PJME_MW     month  quarter  weekofyear  is_holiday  \\\n",
       "Date                                                                  \n",
       "2002-01-06  32392.160839  1.000000      1.0         1.0    0.160839   \n",
       "2002-01-13  31487.386905  1.000000      1.0         2.0    0.000000   \n",
       "2002-01-20  31452.880952  1.000000      1.0         3.0    0.000000   \n",
       "2002-01-27  30141.529762  1.000000      1.0         4.0    0.142857   \n",
       "2002-02-03  29196.488095  1.428571      1.0         5.0    0.000000   \n",
       "...                  ...       ...      ...         ...         ...   \n",
       "2018-07-08  38459.982143  7.000000      3.0        27.0    0.142857   \n",
       "2018-07-15  36420.035714  7.000000      3.0        28.0    0.000000   \n",
       "2018-07-22  35612.095238  7.000000      3.0        29.0    0.000000   \n",
       "2018-07-29  36581.821429  7.000000      3.0        30.0    0.000000   \n",
       "2018-08-05  36568.804124  7.505155      3.0        31.0    0.000000   \n",
       "\n",
       "            is_prev_holiday  is_next_holiday  \n",
       "Date                                          \n",
       "2002-01-06         0.000000         0.167832  \n",
       "2002-01-13         0.000000         0.000000  \n",
       "2002-01-20         0.142857         0.000000  \n",
       "2002-01-27         0.000000         0.142857  \n",
       "2002-02-03         0.000000         0.000000  \n",
       "...                     ...              ...  \n",
       "2018-07-08         0.142857         0.142857  \n",
       "2018-07-15         0.000000         0.000000  \n",
       "2018-07-22         0.000000         0.000000  \n",
       "2018-07-29         0.000000         0.000000  \n",
       "2018-08-05         0.000000         0.000000  \n",
       "\n",
       "[866 rows x 7 columns]"
      ]
     },
     "execution_count": 7,
     "metadata": {},
     "output_type": "execute_result"
    }
   ],
   "source": [
    "data_d"
   ]
  },
  {
   "cell_type": "markdown",
   "metadata": {},
   "source": [
    "Можно построить интегральный признак используя кластер-анализ"
   ]
  },
  {
   "cell_type": "code",
   "execution_count": 8,
   "metadata": {
    "ExecuteTime": {
     "end_time": "2020-05-14T12:18:18.848537Z",
     "start_time": "2020-05-14T12:17:44.317466Z"
    }
   },
   "outputs": [],
   "source": [
    "from sklearn.cluster import KMeans, DBSCAN\n",
    "from sklearn.preprocessing import StandardScaler\n",
    "from sklearn.manifold import TSNE\n",
    "import seaborn as sns\n",
    "\n",
    "scl=StandardScaler()\n",
    "tsne_ =TSNE(n_components=2)\n",
    "\n",
    "X = data_d.iloc[:,:-1].values\n",
    "\n",
    "Xscale = scl.fit_transform(X)\n",
    "X_t = tsne_.fit_transform(Xscale)"
   ]
  },
  {
   "cell_type": "code",
   "execution_count": 9,
   "metadata": {
    "ExecuteTime": {
     "end_time": "2020-05-14T12:18:18.854136Z",
     "start_time": "2020-05-14T12:18:18.850498Z"
    }
   },
   "outputs": [
    {
     "data": {
      "text/plain": [
       "array([[  1.9259884 , -43.884468  ],\n",
       "       [ 38.975964  ,  16.53204   ],\n",
       "       [-26.93825   ,  27.731916  ],\n",
       "       ...,\n",
       "       [  1.4437006 ,   8.452007  ],\n",
       "       [ -0.29045683,   8.877795  ],\n",
       "       [ -0.4903881 ,   7.823099  ]], dtype=float32)"
      ]
     },
     "execution_count": 9,
     "metadata": {},
     "output_type": "execute_result"
    }
   ],
   "source": [
    "X_t"
   ]
  },
  {
   "cell_type": "code",
   "execution_count": 10,
   "metadata": {
    "ExecuteTime": {
     "end_time": "2020-05-14T12:18:22.309760Z",
     "start_time": "2020-05-14T12:18:18.857287Z"
    }
   },
   "outputs": [
    {
     "data": {
      "image/png": "[encoded data removed]",
      "text/plain": [
       "<Figure size 432x288 with 1 Axes>"
      ]
     },
     "metadata": {
      "needs_background": "light"
     },
     "output_type": "display_data"
    }
   ],
   "source": [
    "clast_0 = DBSCAN(eps=3, leaf_size=15)\n",
    "clast_1 = DBSCAN(eps=3, leaf_size=5)\n",
    "X_clast =clast_0.fit_predict(X_t)\n",
    "X_scale_clast =clast_1.fit_predict(Xscale)\n",
    "\n",
    "sns.scatterplot(X_t[:,0],X_t[:,1], hue=X_clast)\n",
    "plt.show()"
   ]
  },
  {
   "cell_type": "code",
   "execution_count": 11,
   "metadata": {
    "ExecuteTime": {
     "end_time": "2020-05-14T12:18:22.607118Z",
     "start_time": "2020-05-14T12:18:22.312258Z"
    }
   },
   "outputs": [
    {
     "data": {
      "image/png": "[encoded data removed]",
      "text/plain": [
       "<Figure size 432x288 with 1 Axes>"
      ]
     },
     "metadata": {
      "needs_background": "light"
     },
     "output_type": "display_data"
    }
   ],
   "source": [
    "sns.scatterplot(X_t[:,0],X_t[:,1], hue=X_scale_clast)\n",
    "plt.show()"
   ]
  },
  {
   "cell_type": "code",
   "execution_count": 12,
   "metadata": {
    "ExecuteTime": {
     "end_time": "2020-05-14T12:18:22.613455Z",
     "start_time": "2020-05-14T12:18:22.609608Z"
    }
   },
   "outputs": [
    {
     "name": "stdout",
     "output_type": "stream",
     "text": [
      "Число кластеров в календаре с масштабированием:  1\n",
      "Число кластеров в календаре:  10\n"
     ]
    }
   ],
   "source": [
    "print('Число кластеров в календаре с масштабированием: ',len(np.unique(X_scale_clast)))\n",
    "print('Число кластеров в календаре: ',len(np.unique(X_clast)))"
   ]
  },
  {
   "cell_type": "code",
   "execution_count": 13,
   "metadata": {
    "ExecuteTime": {
     "end_time": "2020-05-14T12:18:22.631703Z",
     "start_time": "2020-05-14T12:18:22.614948Z"
    }
   },
   "outputs": [
    {
     "data": {
      "text/html": [
       "<div>\n",
       "<style scoped>\n",
       "    .dataframe tbody tr th:only-of-type {\n",
       "        vertical-align: middle;\n",
       "    }\n",
       "\n",
       "    .dataframe tbody tr th {\n",
       "        vertical-align: top;\n",
       "    }\n",
       "\n",
       "    .dataframe thead th {\n",
       "        text-align: right;\n",
       "    }\n",
       "</style>\n",
       "<table border=\"1\" class=\"dataframe\">\n",
       "  <thead>\n",
       "    <tr style=\"text-align: right;\">\n",
       "      <th></th>\n",
       "      <th>PJME_MW</th>\n",
       "      <th>month</th>\n",
       "      <th>quarter</th>\n",
       "      <th>weekofyear</th>\n",
       "      <th>is_holiday</th>\n",
       "      <th>is_prev_holiday</th>\n",
       "      <th>is_next_holiday</th>\n",
       "      <th>day_week_month</th>\n",
       "    </tr>\n",
       "    <tr>\n",
       "      <th>Date</th>\n",
       "      <th></th>\n",
       "      <th></th>\n",
       "      <th></th>\n",
       "      <th></th>\n",
       "      <th></th>\n",
       "      <th></th>\n",
       "      <th></th>\n",
       "      <th></th>\n",
       "    </tr>\n",
       "  </thead>\n",
       "  <tbody>\n",
       "    <tr>\n",
       "      <th>2002-01-06</th>\n",
       "      <td>32392.160839</td>\n",
       "      <td>1.0</td>\n",
       "      <td>1.0</td>\n",
       "      <td>1.0</td>\n",
       "      <td>0.160839</td>\n",
       "      <td>0.0</td>\n",
       "      <td>0.167832</td>\n",
       "      <td>0</td>\n",
       "    </tr>\n",
       "    <tr>\n",
       "      <th>2002-01-27</th>\n",
       "      <td>30141.529762</td>\n",
       "      <td>1.0</td>\n",
       "      <td>1.0</td>\n",
       "      <td>4.0</td>\n",
       "      <td>0.142857</td>\n",
       "      <td>0.0</td>\n",
       "      <td>0.142857</td>\n",
       "      <td>0</td>\n",
       "    </tr>\n",
       "    <tr>\n",
       "      <th>2002-02-24</th>\n",
       "      <td>29144.130952</td>\n",
       "      <td>2.0</td>\n",
       "      <td>1.0</td>\n",
       "      <td>8.0</td>\n",
       "      <td>0.142857</td>\n",
       "      <td>0.0</td>\n",
       "      <td>0.142857</td>\n",
       "      <td>0</td>\n",
       "    </tr>\n",
       "    <tr>\n",
       "      <th>2003-01-26</th>\n",
       "      <td>37169.547619</td>\n",
       "      <td>1.0</td>\n",
       "      <td>1.0</td>\n",
       "      <td>4.0</td>\n",
       "      <td>0.142857</td>\n",
       "      <td>0.0</td>\n",
       "      <td>0.142857</td>\n",
       "      <td>0</td>\n",
       "    </tr>\n",
       "    <tr>\n",
       "      <th>2003-02-23</th>\n",
       "      <td>33023.458333</td>\n",
       "      <td>2.0</td>\n",
       "      <td>1.0</td>\n",
       "      <td>8.0</td>\n",
       "      <td>0.142857</td>\n",
       "      <td>0.0</td>\n",
       "      <td>0.142857</td>\n",
       "      <td>0</td>\n",
       "    </tr>\n",
       "    <tr>\n",
       "      <th>2004-01-25</th>\n",
       "      <td>37925.613095</td>\n",
       "      <td>1.0</td>\n",
       "      <td>1.0</td>\n",
       "      <td>4.0</td>\n",
       "      <td>0.142857</td>\n",
       "      <td>0.0</td>\n",
       "      <td>0.142857</td>\n",
       "      <td>0</td>\n",
       "    </tr>\n",
       "    <tr>\n",
       "      <th>2004-02-22</th>\n",
       "      <td>33083.369048</td>\n",
       "      <td>2.0</td>\n",
       "      <td>1.0</td>\n",
       "      <td>8.0</td>\n",
       "      <td>0.142857</td>\n",
       "      <td>0.0</td>\n",
       "      <td>0.142857</td>\n",
       "      <td>0</td>\n",
       "    </tr>\n",
       "    <tr>\n",
       "      <th>2005-01-23</th>\n",
       "      <td>38833.892857</td>\n",
       "      <td>1.0</td>\n",
       "      <td>1.0</td>\n",
       "      <td>3.0</td>\n",
       "      <td>0.142857</td>\n",
       "      <td>0.0</td>\n",
       "      <td>0.142857</td>\n",
       "      <td>0</td>\n",
       "    </tr>\n",
       "    <tr>\n",
       "      <th>2005-02-27</th>\n",
       "      <td>33497.928571</td>\n",
       "      <td>2.0</td>\n",
       "      <td>1.0</td>\n",
       "      <td>8.0</td>\n",
       "      <td>0.142857</td>\n",
       "      <td>0.0</td>\n",
       "      <td>0.142857</td>\n",
       "      <td>0</td>\n",
       "    </tr>\n",
       "    <tr>\n",
       "      <th>2006-01-08</th>\n",
       "      <td>33123.166667</td>\n",
       "      <td>1.0</td>\n",
       "      <td>1.0</td>\n",
       "      <td>1.0</td>\n",
       "      <td>0.142857</td>\n",
       "      <td>0.0</td>\n",
       "      <td>0.142857</td>\n",
       "      <td>0</td>\n",
       "    </tr>\n",
       "  </tbody>\n",
       "</table>\n",
       "</div>"
      ],
      "text/plain": [
       "                 PJME_MW  month  quarter  weekofyear  is_holiday  \\\n",
       "Date                                                               \n",
       "2002-01-06  32392.160839    1.0      1.0         1.0    0.160839   \n",
       "2002-01-27  30141.529762    1.0      1.0         4.0    0.142857   \n",
       "2002-02-24  29144.130952    2.0      1.0         8.0    0.142857   \n",
       "2003-01-26  37169.547619    1.0      1.0         4.0    0.142857   \n",
       "2003-02-23  33023.458333    2.0      1.0         8.0    0.142857   \n",
       "2004-01-25  37925.613095    1.0      1.0         4.0    0.142857   \n",
       "2004-02-22  33083.369048    2.0      1.0         8.0    0.142857   \n",
       "2005-01-23  38833.892857    1.0      1.0         3.0    0.142857   \n",
       "2005-02-27  33497.928571    2.0      1.0         8.0    0.142857   \n",
       "2006-01-08  33123.166667    1.0      1.0         1.0    0.142857   \n",
       "\n",
       "            is_prev_holiday  is_next_holiday  day_week_month  \n",
       "Date                                                          \n",
       "2002-01-06              0.0         0.167832               0  \n",
       "2002-01-27              0.0         0.142857               0  \n",
       "2002-02-24              0.0         0.142857               0  \n",
       "2003-01-26              0.0         0.142857               0  \n",
       "2003-02-23              0.0         0.142857               0  \n",
       "2004-01-25              0.0         0.142857               0  \n",
       "2004-02-22              0.0         0.142857               0  \n",
       "2005-01-23              0.0         0.142857               0  \n",
       "2005-02-27              0.0         0.142857               0  \n",
       "2006-01-08              0.0         0.142857               0  "
      ]
     },
     "execution_count": 13,
     "metadata": {},
     "output_type": "execute_result"
    }
   ],
   "source": [
    "data_d['day_week_month'] = X_clast\n",
    "data_d.iloc[np.where(data_d['day_week_month']==0)[0]].iloc[:10,:]"
   ]
  },
  {
   "cell_type": "code",
   "execution_count": 14,
   "metadata": {
    "ExecuteTime": {
     "end_time": "2020-05-14T12:18:22.648192Z",
     "start_time": "2020-05-14T12:18:22.633345Z"
    }
   },
   "outputs": [
    {
     "data": {
      "text/html": [
       "<div>\n",
       "<style scoped>\n",
       "    .dataframe tbody tr th:only-of-type {\n",
       "        vertical-align: middle;\n",
       "    }\n",
       "\n",
       "    .dataframe tbody tr th {\n",
       "        vertical-align: top;\n",
       "    }\n",
       "\n",
       "    .dataframe thead th {\n",
       "        text-align: right;\n",
       "    }\n",
       "</style>\n",
       "<table border=\"1\" class=\"dataframe\">\n",
       "  <thead>\n",
       "    <tr style=\"text-align: right;\">\n",
       "      <th></th>\n",
       "      <th>PJME_MW</th>\n",
       "      <th>month</th>\n",
       "      <th>quarter</th>\n",
       "      <th>weekofyear</th>\n",
       "      <th>is_holiday</th>\n",
       "      <th>is_prev_holiday</th>\n",
       "      <th>is_next_holiday</th>\n",
       "      <th>day_week_month</th>\n",
       "    </tr>\n",
       "    <tr>\n",
       "      <th>Date</th>\n",
       "      <th></th>\n",
       "      <th></th>\n",
       "      <th></th>\n",
       "      <th></th>\n",
       "      <th></th>\n",
       "      <th></th>\n",
       "      <th></th>\n",
       "      <th></th>\n",
       "    </tr>\n",
       "  </thead>\n",
       "  <tbody>\n",
       "    <tr>\n",
       "      <th>2002-01-20</th>\n",
       "      <td>31452.880952</td>\n",
       "      <td>1.0</td>\n",
       "      <td>1.0</td>\n",
       "      <td>3.0</td>\n",
       "      <td>0.0</td>\n",
       "      <td>0.142857</td>\n",
       "      <td>0.0</td>\n",
       "      <td>2</td>\n",
       "    </tr>\n",
       "    <tr>\n",
       "      <th>2002-02-17</th>\n",
       "      <td>30616.565476</td>\n",
       "      <td>2.0</td>\n",
       "      <td>1.0</td>\n",
       "      <td>7.0</td>\n",
       "      <td>0.0</td>\n",
       "      <td>0.142857</td>\n",
       "      <td>0.0</td>\n",
       "      <td>2</td>\n",
       "    </tr>\n",
       "    <tr>\n",
       "      <th>2003-01-19</th>\n",
       "      <td>35999.547619</td>\n",
       "      <td>1.0</td>\n",
       "      <td>1.0</td>\n",
       "      <td>3.0</td>\n",
       "      <td>0.0</td>\n",
       "      <td>0.142857</td>\n",
       "      <td>0.0</td>\n",
       "      <td>2</td>\n",
       "    </tr>\n",
       "    <tr>\n",
       "      <th>2003-02-16</th>\n",
       "      <td>35533.589286</td>\n",
       "      <td>2.0</td>\n",
       "      <td>1.0</td>\n",
       "      <td>7.0</td>\n",
       "      <td>0.0</td>\n",
       "      <td>0.142857</td>\n",
       "      <td>0.0</td>\n",
       "      <td>2</td>\n",
       "    </tr>\n",
       "    <tr>\n",
       "      <th>2004-01-18</th>\n",
       "      <td>36814.470238</td>\n",
       "      <td>1.0</td>\n",
       "      <td>1.0</td>\n",
       "      <td>3.0</td>\n",
       "      <td>0.0</td>\n",
       "      <td>0.142857</td>\n",
       "      <td>0.0</td>\n",
       "      <td>2</td>\n",
       "    </tr>\n",
       "    <tr>\n",
       "      <th>2004-02-15</th>\n",
       "      <td>33151.982143</td>\n",
       "      <td>2.0</td>\n",
       "      <td>1.0</td>\n",
       "      <td>7.0</td>\n",
       "      <td>0.0</td>\n",
       "      <td>0.142857</td>\n",
       "      <td>0.0</td>\n",
       "      <td>2</td>\n",
       "    </tr>\n",
       "    <tr>\n",
       "      <th>2005-01-16</th>\n",
       "      <td>32488.148810</td>\n",
       "      <td>1.0</td>\n",
       "      <td>1.0</td>\n",
       "      <td>2.0</td>\n",
       "      <td>0.0</td>\n",
       "      <td>0.142857</td>\n",
       "      <td>0.0</td>\n",
       "      <td>2</td>\n",
       "    </tr>\n",
       "    <tr>\n",
       "      <th>2005-02-20</th>\n",
       "      <td>33284.934524</td>\n",
       "      <td>2.0</td>\n",
       "      <td>1.0</td>\n",
       "      <td>7.0</td>\n",
       "      <td>0.0</td>\n",
       "      <td>0.142857</td>\n",
       "      <td>0.0</td>\n",
       "      <td>2</td>\n",
       "    </tr>\n",
       "    <tr>\n",
       "      <th>2006-01-15</th>\n",
       "      <td>31858.672619</td>\n",
       "      <td>1.0</td>\n",
       "      <td>1.0</td>\n",
       "      <td>2.0</td>\n",
       "      <td>0.0</td>\n",
       "      <td>0.142857</td>\n",
       "      <td>0.0</td>\n",
       "      <td>2</td>\n",
       "    </tr>\n",
       "    <tr>\n",
       "      <th>2006-02-19</th>\n",
       "      <td>33435.136905</td>\n",
       "      <td>2.0</td>\n",
       "      <td>1.0</td>\n",
       "      <td>7.0</td>\n",
       "      <td>0.0</td>\n",
       "      <td>0.142857</td>\n",
       "      <td>0.0</td>\n",
       "      <td>2</td>\n",
       "    </tr>\n",
       "  </tbody>\n",
       "</table>\n",
       "</div>"
      ],
      "text/plain": [
       "                 PJME_MW  month  quarter  weekofyear  is_holiday  \\\n",
       "Date                                                               \n",
       "2002-01-20  31452.880952    1.0      1.0         3.0         0.0   \n",
       "2002-02-17  30616.565476    2.0      1.0         7.0         0.0   \n",
       "2003-01-19  35999.547619    1.0      1.0         3.0         0.0   \n",
       "2003-02-16  35533.589286    2.0      1.0         7.0         0.0   \n",
       "2004-01-18  36814.470238    1.0      1.0         3.0         0.0   \n",
       "2004-02-15  33151.982143    2.0      1.0         7.0         0.0   \n",
       "2005-01-16  32488.148810    1.0      1.0         2.0         0.0   \n",
       "2005-02-20  33284.934524    2.0      1.0         7.0         0.0   \n",
       "2006-01-15  31858.672619    1.0      1.0         2.0         0.0   \n",
       "2006-02-19  33435.136905    2.0      1.0         7.0         0.0   \n",
       "\n",
       "            is_prev_holiday  is_next_holiday  day_week_month  \n",
       "Date                                                          \n",
       "2002-01-20         0.142857              0.0               2  \n",
       "2002-02-17         0.142857              0.0               2  \n",
       "2003-01-19         0.142857              0.0               2  \n",
       "2003-02-16         0.142857              0.0               2  \n",
       "2004-01-18         0.142857              0.0               2  \n",
       "2004-02-15         0.142857              0.0               2  \n",
       "2005-01-16         0.142857              0.0               2  \n",
       "2005-02-20         0.142857              0.0               2  \n",
       "2006-01-15         0.142857              0.0               2  \n",
       "2006-02-19         0.142857              0.0               2  "
      ]
     },
     "execution_count": 14,
     "metadata": {},
     "output_type": "execute_result"
    }
   ],
   "source": [
    "data_d.iloc[np.where(data_d['day_week_month']==2)[0]].iloc[:10,:]"
   ]
  },
  {
   "cell_type": "markdown",
   "metadata": {},
   "source": [
    " Построим 2 компоненты по признакам из календаря , без значений ряда и допишем их в общую таблицу data_d."
   ]
  },
  {
   "cell_type": "code",
   "execution_count": 15,
   "metadata": {
    "ExecuteTime": {
     "end_time": "2020-05-14T12:18:22.656336Z",
     "start_time": "2020-05-14T12:18:22.649873Z"
    }
   },
   "outputs": [
    {
     "data": {
      "text/plain": [
       "(866, 2)"
      ]
     },
     "execution_count": 15,
     "metadata": {},
     "output_type": "execute_result"
    }
   ],
   "source": [
    "from sklearn.decomposition import PCA\n",
    "\n",
    "pca = PCA(n_components=2, svd_solver='full')\n",
    "Xpca=pca.fit_transform(Xscale[:,1:])\n",
    "Xpca.shape"
   ]
  },
  {
   "cell_type": "code",
   "execution_count": 16,
   "metadata": {
    "ExecuteTime": {
     "end_time": "2020-05-14T12:18:22.665330Z",
     "start_time": "2020-05-14T12:18:22.660838Z"
    }
   },
   "outputs": [],
   "source": [
    "data_d['pca1']=Xpca[:,0]\n",
    "data_d['pca2']=Xpca[:,1]"
   ]
  },
  {
   "cell_type": "markdown",
   "metadata": {},
   "source": [
    "Добавим к нашей модели 1-е разности"
   ]
  },
  {
   "cell_type": "code",
   "execution_count": 17,
   "metadata": {
    "ExecuteTime": {
     "end_time": "2020-05-14T12:18:22.677832Z",
     "start_time": "2020-05-14T12:18:22.669987Z"
    }
   },
   "outputs": [],
   "source": [
    "first_diff =np.array(data_d.iloc[1:,0].values - data_d.iloc[:-1,0].values).astype('float32') \n",
    "data_d['diff1'] = 0\n",
    "data_d['diff1'] =  data_d['diff1'].astype('float') \n",
    "data_d['diff1'].values[1:] = first_diff"
   ]
  },
  {
   "cell_type": "code",
   "execution_count": 18,
   "metadata": {
    "ExecuteTime": {
     "end_time": "2020-05-14T12:18:22.688316Z",
     "start_time": "2020-05-14T12:18:22.680293Z"
    }
   },
   "outputs": [],
   "source": [
    "first_diff_d =(first_diff) / data_d.iloc[1:,0].values\n",
    "data_d['diff1_d'] = 0\n",
    "data_d['diff1_d'] =  data_d['diff1_d'].astype('float') \n",
    "data_d['diff1_d'].values[1:] = np.array(first_diff_d).astype('float32')"
   ]
  },
  {
   "cell_type": "code",
   "execution_count": 19,
   "metadata": {
    "ExecuteTime": {
     "end_time": "2020-05-14T12:18:22.697035Z",
     "start_time": "2020-05-14T12:18:22.690639Z"
    }
   },
   "outputs": [],
   "source": [
    "first_diff_l =np.log(data_d.iloc[1:,0].values) \n",
    "data_d['diff1_l'] = 0\n",
    "data_d['diff1_l'] =  data_d['diff1_l'].astype('float') \n",
    "data_d['diff1_l'].values[1:] = first_diff_l"
   ]
  },
  {
   "cell_type": "markdown",
   "metadata": {},
   "source": [
    "Добавим скользящее среднее по всей модели с глубиной 26 недель. Размер окна определен длиной полугодовых циклов."
   ]
  },
  {
   "cell_type": "code",
   "execution_count": 20,
   "metadata": {
    "ExecuteTime": {
     "end_time": "2020-05-14T12:18:22.704997Z",
     "start_time": "2020-05-14T12:18:22.699230Z"
    }
   },
   "outputs": [],
   "source": [
    "data_d['d_w26']=data_d['PJME_MW'].rolling(window=26).mean()"
   ]
  },
  {
   "cell_type": "markdown",
   "metadata": {},
   "source": [
    "А теперь добавим еще и экспонентциальную среднюю."
   ]
  },
  {
   "cell_type": "code",
   "execution_count": 21,
   "metadata": {
    "ExecuteTime": {
     "end_time": "2020-05-14T12:18:22.846716Z",
     "start_time": "2020-05-14T12:18:22.707484Z"
    }
   },
   "outputs": [],
   "source": [
    "def exponential_smoothing(series, alpha):\n",
    "    result = [series[0]] \n",
    "    for n in range(1, len(series)):\n",
    "        result.append(alpha * series[n] + (1 - alpha) * result[n-1])\n",
    "    return result\n",
    "\n",
    "data_d['exp_0_05'] = exponential_smoothing(data_d['PJME_MW'], 0.05)"
   ]
  },
  {
   "cell_type": "code",
   "execution_count": 22,
   "metadata": {
    "ExecuteTime": {
     "end_time": "2020-05-14T12:18:22.869662Z",
     "start_time": "2020-05-14T12:18:22.848721Z"
    }
   },
   "outputs": [
    {
     "data": {
      "text/html": [
       "<div>\n",
       "<style scoped>\n",
       "    .dataframe tbody tr th:only-of-type {\n",
       "        vertical-align: middle;\n",
       "    }\n",
       "\n",
       "    .dataframe tbody tr th {\n",
       "        vertical-align: top;\n",
       "    }\n",
       "\n",
       "    .dataframe thead th {\n",
       "        text-align: right;\n",
       "    }\n",
       "</style>\n",
       "<table border=\"1\" class=\"dataframe\">\n",
       "  <thead>\n",
       "    <tr style=\"text-align: right;\">\n",
       "      <th></th>\n",
       "      <th>PJME_MW</th>\n",
       "      <th>month</th>\n",
       "      <th>quarter</th>\n",
       "      <th>weekofyear</th>\n",
       "      <th>is_holiday</th>\n",
       "      <th>is_prev_holiday</th>\n",
       "      <th>is_next_holiday</th>\n",
       "      <th>day_week_month</th>\n",
       "      <th>pca1</th>\n",
       "      <th>pca2</th>\n",
       "      <th>diff1</th>\n",
       "      <th>diff1_d</th>\n",
       "      <th>diff1_l</th>\n",
       "      <th>d_w26</th>\n",
       "      <th>exp_0_05</th>\n",
       "    </tr>\n",
       "    <tr>\n",
       "      <th>Date</th>\n",
       "      <th></th>\n",
       "      <th></th>\n",
       "      <th></th>\n",
       "      <th></th>\n",
       "      <th></th>\n",
       "      <th></th>\n",
       "      <th></th>\n",
       "      <th></th>\n",
       "      <th></th>\n",
       "      <th></th>\n",
       "      <th></th>\n",
       "      <th></th>\n",
       "      <th></th>\n",
       "      <th></th>\n",
       "      <th></th>\n",
       "    </tr>\n",
       "  </thead>\n",
       "  <tbody>\n",
       "    <tr>\n",
       "      <th>2002-03-17</th>\n",
       "      <td>28672.779762</td>\n",
       "      <td>3.0</td>\n",
       "      <td>1.0</td>\n",
       "      <td>11.0</td>\n",
       "      <td>0.0</td>\n",
       "      <td>0.0</td>\n",
       "      <td>0.0</td>\n",
       "      <td>1</td>\n",
       "      <td>-2.037281</td>\n",
       "      <td>-0.353362</td>\n",
       "      <td>-768.130981</td>\n",
       "      <td>-0.026790</td>\n",
       "      <td>10.263704</td>\n",
       "      <td>NaN</td>\n",
       "      <td>31436.852496</td>\n",
       "    </tr>\n",
       "    <tr>\n",
       "      <th>2002-03-24</th>\n",
       "      <td>29927.488095</td>\n",
       "      <td>3.0</td>\n",
       "      <td>1.0</td>\n",
       "      <td>12.0</td>\n",
       "      <td>0.0</td>\n",
       "      <td>0.0</td>\n",
       "      <td>0.0</td>\n",
       "      <td>1</td>\n",
       "      <td>-1.999420</td>\n",
       "      <td>-0.360328</td>\n",
       "      <td>1254.708374</td>\n",
       "      <td>0.041925</td>\n",
       "      <td>10.306533</td>\n",
       "      <td>NaN</td>\n",
       "      <td>31361.384276</td>\n",
       "    </tr>\n",
       "    <tr>\n",
       "      <th>2002-03-31</th>\n",
       "      <td>27595.869048</td>\n",
       "      <td>3.0</td>\n",
       "      <td>1.0</td>\n",
       "      <td>13.0</td>\n",
       "      <td>0.0</td>\n",
       "      <td>0.0</td>\n",
       "      <td>0.0</td>\n",
       "      <td>1</td>\n",
       "      <td>-1.961559</td>\n",
       "      <td>-0.367293</td>\n",
       "      <td>-2331.619141</td>\n",
       "      <td>-0.084492</td>\n",
       "      <td>10.225421</td>\n",
       "      <td>NaN</td>\n",
       "      <td>31173.108514</td>\n",
       "    </tr>\n",
       "    <tr>\n",
       "      <th>2002-04-07</th>\n",
       "      <td>28308.778443</td>\n",
       "      <td>4.0</td>\n",
       "      <td>2.0</td>\n",
       "      <td>14.0</td>\n",
       "      <td>0.0</td>\n",
       "      <td>0.0</td>\n",
       "      <td>0.0</td>\n",
       "      <td>3</td>\n",
       "      <td>-1.237759</td>\n",
       "      <td>-0.479240</td>\n",
       "      <td>712.909424</td>\n",
       "      <td>0.025183</td>\n",
       "      <td>10.250927</td>\n",
       "      <td>NaN</td>\n",
       "      <td>31029.892011</td>\n",
       "    </tr>\n",
       "    <tr>\n",
       "      <th>2002-04-14</th>\n",
       "      <td>27182.482143</td>\n",
       "      <td>4.0</td>\n",
       "      <td>2.0</td>\n",
       "      <td>15.0</td>\n",
       "      <td>0.0</td>\n",
       "      <td>0.0</td>\n",
       "      <td>0.0</td>\n",
       "      <td>3</td>\n",
       "      <td>-1.199898</td>\n",
       "      <td>-0.486205</td>\n",
       "      <td>-1126.296265</td>\n",
       "      <td>-0.041435</td>\n",
       "      <td>10.210328</td>\n",
       "      <td>NaN</td>\n",
       "      <td>30837.521517</td>\n",
       "    </tr>\n",
       "  </tbody>\n",
       "</table>\n",
       "</div>"
      ],
      "text/plain": [
       "                 PJME_MW  month  quarter  weekofyear  is_holiday  \\\n",
       "Date                                                               \n",
       "2002-03-17  28672.779762    3.0      1.0        11.0         0.0   \n",
       "2002-03-24  29927.488095    3.0      1.0        12.0         0.0   \n",
       "2002-03-31  27595.869048    3.0      1.0        13.0         0.0   \n",
       "2002-04-07  28308.778443    4.0      2.0        14.0         0.0   \n",
       "2002-04-14  27182.482143    4.0      2.0        15.0         0.0   \n",
       "\n",
       "            is_prev_holiday  is_next_holiday  day_week_month      pca1  \\\n",
       "Date                                                                     \n",
       "2002-03-17              0.0              0.0               1 -2.037281   \n",
       "2002-03-24              0.0              0.0               1 -1.999420   \n",
       "2002-03-31              0.0              0.0               1 -1.961559   \n",
       "2002-04-07              0.0              0.0               3 -1.237759   \n",
       "2002-04-14              0.0              0.0               3 -1.199898   \n",
       "\n",
       "                pca2        diff1   diff1_d    diff1_l  d_w26      exp_0_05  \n",
       "Date                                                                         \n",
       "2002-03-17 -0.353362  -768.130981 -0.026790  10.263704    NaN  31436.852496  \n",
       "2002-03-24 -0.360328  1254.708374  0.041925  10.306533    NaN  31361.384276  \n",
       "2002-03-31 -0.367293 -2331.619141 -0.084492  10.225421    NaN  31173.108514  \n",
       "2002-04-07 -0.479240   712.909424  0.025183  10.250927    NaN  31029.892011  \n",
       "2002-04-14 -0.486205 -1126.296265 -0.041435  10.210328    NaN  30837.521517  "
      ]
     },
     "execution_count": 22,
     "metadata": {},
     "output_type": "execute_result"
    }
   ],
   "source": [
    "data_d.iloc[10:15,:]"
   ]
  },
  {
   "cell_type": "code",
   "execution_count": 23,
   "metadata": {
    "ExecuteTime": {
     "end_time": "2020-05-14T12:18:23.070009Z",
     "start_time": "2020-05-14T12:18:22.871561Z"
    }
   },
   "outputs": [
    {
     "data": {
      "image/png": "[encoded data removed]",
      "text/plain": [
       "<Figure size 432x288 with 1 Axes>"
      ]
     },
     "metadata": {
      "needs_background": "light"
     },
     "output_type": "display_data"
    }
   ],
   "source": [
    "N100=100\n",
    "plt.plot(data_d.index[:N100],data_d['PJME_MW'][:N100],'r',label ='основной ряд')\n",
    "plt.plot(data_d.index[:N100],data_d['diff1'][:N100],'--k',label ='1-е разности')\n",
    "plt.plot(data_d.index[:N100],data_d['d_w26'][:N100],'--b',label ='скользящее среднее 26')\n",
    "plt.plot(data_d.index[:N100],data_d['exp_0_05'][:N100],'--g',label ='экспонентциальное среднее')\n",
    "plt.legend()\n",
    "plt.show()"
   ]
  },
  {
   "cell_type": "code",
   "execution_count": 24,
   "metadata": {
    "ExecuteTime": {
     "end_time": "2020-05-14T12:18:23.225378Z",
     "start_time": "2020-05-14T12:18:23.071786Z"
    }
   },
   "outputs": [
    {
     "data": {
      "image/png": "[encoded data removed]",
      "text/plain": [
       "<Figure size 432x288 with 1 Axes>"
      ]
     },
     "metadata": {
      "needs_background": "light"
     },
     "output_type": "display_data"
    }
   ],
   "source": [
    "N100=100\n",
    "plt.plot(data_d.index[1:N100],data_d['diff1_l'][1:N100],'--k',label ='логарифм по ряду')\n",
    "plt.plot(data_d.index[1:N100],data_d['diff1_d'][1:N100],'--g',label ='относительные разности')\n",
    "plt.legend()\n",
    "plt.show()"
   ]
  },
  {
   "cell_type": "code",
   "execution_count": 25,
   "metadata": {
    "ExecuteTime": {
     "end_time": "2020-05-14T12:18:24.075845Z",
     "start_time": "2020-05-14T12:18:23.227199Z"
    }
   },
   "outputs": [
    {
     "data": {
      "image/png": "[encoded data removed]",
      "text/plain": [
       "<Figure size 432x288 with 1 Axes>"
      ]
     },
     "metadata": {
      "needs_background": "light"
     },
     "output_type": "display_data"
    }
   ],
   "source": [
    "data_d['exp_0_01'] = exponential_smoothing(data_d['PJME_MW'], 0.01)\n",
    "data_d['exp_0_03'] = exponential_smoothing(data_d['PJME_MW'], 0.03)\n",
    "data_d['exp_0_04'] = exponential_smoothing(data_d['PJME_MW'], 0.04)\n",
    "data_d['exp_0_06'] = exponential_smoothing(data_d['PJME_MW'], 0.06)\n",
    "data_d['exp_0_07'] = exponential_smoothing(data_d['PJME_MW'], 0.07)\n",
    "data_d['exp_0_08'] = exponential_smoothing(data_d['PJME_MW'], 0.08)\n",
    "\n",
    "N100=400\n",
    "plt.plot(data_d.index[:N100],data_d['PJME_MW'][:N100],'r',label ='основной ряд',alpha=0.3)\n",
    "plt.plot(data_d.index[:N100],data_d['exp_0_01'][:N100],'--g',label ='экспонентциальное среднее')\n",
    "plt.plot(data_d.index[:N100],data_d['exp_0_05'][:N100],'--b',label ='экспонентциальное среднее')\n",
    "plt.plot(data_d.index[:N100],data_d['exp_0_08'][:N100],'--k',label ='экспонентциальное среднее')\n",
    "plt.legend()\n",
    "plt.title('PJME MW')\n",
    "plt.show()"
   ]
  },
  {
   "cell_type": "code",
   "execution_count": 26,
   "metadata": {},
   "outputs": [
    {
     "name": "stdout",
     "output_type": "stream",
     "text": [
      "0: PJME_MW\n",
      "1: month\n",
      "2: quarter\n",
      "3: weekofyear\n",
      "4: is_holiday\n",
      "5: is_prev_holiday\n",
      "6: is_next_holiday\n",
      "7: day_week_month\n",
      "8: pca1\n",
      "9: pca2\n",
      "10: diff1\n",
      "11: diff1_d\n",
      "12: diff1_l\n",
      "13: d_w26\n",
      "14: exp_0_05\n",
      "15: exp_0_01\n",
      "16: exp_0_03\n",
      "17: exp_0_04\n",
      "18: exp_0_06\n",
      "19: exp_0_07\n",
      "20: exp_0_08\n"
     ]
    }
   ],
   "source": [
    "for i, col in enumerate(data_d.columns):\n",
    "    print(f'{i}: {col}')"
   ]
  },
  {
   "cell_type": "code",
   "execution_count": 27,
   "metadata": {
    "ExecuteTime": {
     "end_time": "2020-05-14T12:18:24.084574Z",
     "start_time": "2020-05-14T12:18:24.078622Z"
    }
   },
   "outputs": [],
   "source": [
    "data_d.iloc[:26, 13]=0"
   ]
  },
  {
   "cell_type": "code",
   "execution_count": 28,
   "metadata": {
    "ExecuteTime": {
     "end_time": "2020-05-14T12:18:24.381231Z",
     "start_time": "2020-05-14T12:18:24.086494Z"
    }
   },
   "outputs": [
    {
     "data": {
      "image/png": "[encoded data removed]",
      "text/plain": [
       "<Figure size 432x288 with 1 Axes>"
      ]
     },
     "metadata": {
      "needs_background": "light"
     },
     "output_type": "display_data"
    },
    {
     "data": {
      "image/png": "[encoded data removed]",
      "text/plain": [
       "<Figure size 432x288 with 1 Axes>"
      ]
     },
     "metadata": {
      "needs_background": "light"
     },
     "output_type": "display_data"
    }
   ],
   "source": [
    "sm.graphics.tsa.plot_acf(data_d['PJME_MW'].values, lags=52)\n",
    "plt.show()\n",
    "\n",
    "#plt.subplot(2,1,2)\n",
    "sm.graphics.tsa.plot_pacf(data_d['PJME_MW'].values, lags=52)\n",
    "plt.show()"
   ]
  },
  {
   "cell_type": "code",
   "execution_count": 29,
   "metadata": {
    "ExecuteTime": {
     "end_time": "2020-05-14T12:18:24.393640Z",
     "start_time": "2020-05-14T12:18:24.383178Z"
    }
   },
   "outputs": [],
   "source": [
    "p = 26\n",
    "for i in range(p):\n",
    "    data_d['t'+str(p-i)]=0\n",
    "    data_d['t'+str(p-i)].values[p:] = data_d['PJME_MW'].values[i:-(p)+i]"
   ]
  },
  {
   "cell_type": "code",
   "execution_count": 30,
   "metadata": {
    "ExecuteTime": {
     "end_time": "2020-05-14T12:18:24.402878Z",
     "start_time": "2020-05-14T12:18:24.395412Z"
    }
   },
   "outputs": [],
   "source": [
    "p = 26\n",
    "for i in range(p):\n",
    "    data_d['d'+str(p-i)]=0\n",
    "    data_d['d'+str(p-i)].values[p:] = data_d['diff1'].values[i:-(p)+i]"
   ]
  },
  {
   "cell_type": "markdown",
   "metadata": {},
   "source": [
    "Итоговая система признаков"
   ]
  },
  {
   "cell_type": "code",
   "execution_count": 31,
   "metadata": {
    "ExecuteTime": {
     "end_time": "2020-05-14T12:18:24.424694Z",
     "start_time": "2020-05-14T12:18:24.404273Z"
    }
   },
   "outputs": [
    {
     "data": {
      "text/html": [
       "<div>\n",
       "<style scoped>\n",
       "    .dataframe tbody tr th:only-of-type {\n",
       "        vertical-align: middle;\n",
       "    }\n",
       "\n",
       "    .dataframe tbody tr th {\n",
       "        vertical-align: top;\n",
       "    }\n",
       "\n",
       "    .dataframe thead th {\n",
       "        text-align: right;\n",
       "    }\n",
       "</style>\n",
       "<table border=\"1\" class=\"dataframe\">\n",
       "  <thead>\n",
       "    <tr style=\"text-align: right;\">\n",
       "      <th></th>\n",
       "      <th>PJME_MW</th>\n",
       "      <th>month</th>\n",
       "      <th>quarter</th>\n",
       "      <th>weekofyear</th>\n",
       "      <th>is_holiday</th>\n",
       "      <th>is_prev_holiday</th>\n",
       "      <th>is_next_holiday</th>\n",
       "      <th>day_week_month</th>\n",
       "      <th>pca1</th>\n",
       "      <th>pca2</th>\n",
       "      <th>...</th>\n",
       "      <th>d10</th>\n",
       "      <th>d9</th>\n",
       "      <th>d8</th>\n",
       "      <th>d7</th>\n",
       "      <th>d6</th>\n",
       "      <th>d5</th>\n",
       "      <th>d4</th>\n",
       "      <th>d3</th>\n",
       "      <th>d2</th>\n",
       "      <th>d1</th>\n",
       "    </tr>\n",
       "    <tr>\n",
       "      <th>Date</th>\n",
       "      <th></th>\n",
       "      <th></th>\n",
       "      <th></th>\n",
       "      <th></th>\n",
       "      <th></th>\n",
       "      <th></th>\n",
       "      <th></th>\n",
       "      <th></th>\n",
       "      <th></th>\n",
       "      <th></th>\n",
       "      <th></th>\n",
       "      <th></th>\n",
       "      <th></th>\n",
       "      <th></th>\n",
       "      <th></th>\n",
       "      <th></th>\n",
       "      <th></th>\n",
       "      <th></th>\n",
       "      <th></th>\n",
       "      <th></th>\n",
       "      <th></th>\n",
       "    </tr>\n",
       "  </thead>\n",
       "  <tbody>\n",
       "    <tr>\n",
       "      <th>2018-06-03</th>\n",
       "      <td>30945.601190</td>\n",
       "      <td>5.428571</td>\n",
       "      <td>2.000000</td>\n",
       "      <td>22.0</td>\n",
       "      <td>0.142857</td>\n",
       "      <td>0.000000</td>\n",
       "      <td>0.142857</td>\n",
       "      <td>5</td>\n",
       "      <td>-0.427246</td>\n",
       "      <td>1.222458</td>\n",
       "      <td>...</td>\n",
       "      <td>-641</td>\n",
       "      <td>-2980</td>\n",
       "      <td>910</td>\n",
       "      <td>-1162</td>\n",
       "      <td>42</td>\n",
       "      <td>-2200</td>\n",
       "      <td>2588</td>\n",
       "      <td>-1531</td>\n",
       "      <td>1238</td>\n",
       "      <td>2528</td>\n",
       "    </tr>\n",
       "    <tr>\n",
       "      <th>2018-06-10</th>\n",
       "      <td>28615.154762</td>\n",
       "      <td>6.000000</td>\n",
       "      <td>2.000000</td>\n",
       "      <td>23.0</td>\n",
       "      <td>0.000000</td>\n",
       "      <td>0.000000</td>\n",
       "      <td>0.000000</td>\n",
       "      <td>3</td>\n",
       "      <td>-0.558974</td>\n",
       "      <td>-0.603449</td>\n",
       "      <td>...</td>\n",
       "      <td>-2980</td>\n",
       "      <td>910</td>\n",
       "      <td>-1162</td>\n",
       "      <td>42</td>\n",
       "      <td>-2200</td>\n",
       "      <td>2588</td>\n",
       "      <td>-1531</td>\n",
       "      <td>1238</td>\n",
       "      <td>2528</td>\n",
       "      <td>563</td>\n",
       "    </tr>\n",
       "    <tr>\n",
       "      <th>2018-06-17</th>\n",
       "      <td>30316.940476</td>\n",
       "      <td>6.000000</td>\n",
       "      <td>2.000000</td>\n",
       "      <td>24.0</td>\n",
       "      <td>0.000000</td>\n",
       "      <td>0.000000</td>\n",
       "      <td>0.000000</td>\n",
       "      <td>3</td>\n",
       "      <td>-0.521113</td>\n",
       "      <td>-0.610414</td>\n",
       "      <td>...</td>\n",
       "      <td>910</td>\n",
       "      <td>-1162</td>\n",
       "      <td>42</td>\n",
       "      <td>-2200</td>\n",
       "      <td>2588</td>\n",
       "      <td>-1531</td>\n",
       "      <td>1238</td>\n",
       "      <td>2528</td>\n",
       "      <td>563</td>\n",
       "      <td>-2330</td>\n",
       "    </tr>\n",
       "    <tr>\n",
       "      <th>2018-06-24</th>\n",
       "      <td>34711.648810</td>\n",
       "      <td>6.000000</td>\n",
       "      <td>2.000000</td>\n",
       "      <td>25.0</td>\n",
       "      <td>0.000000</td>\n",
       "      <td>0.000000</td>\n",
       "      <td>0.000000</td>\n",
       "      <td>3</td>\n",
       "      <td>-0.483252</td>\n",
       "      <td>-0.617380</td>\n",
       "      <td>...</td>\n",
       "      <td>-1162</td>\n",
       "      <td>42</td>\n",
       "      <td>-2200</td>\n",
       "      <td>2588</td>\n",
       "      <td>-1531</td>\n",
       "      <td>1238</td>\n",
       "      <td>2528</td>\n",
       "      <td>563</td>\n",
       "      <td>-2330</td>\n",
       "      <td>1701</td>\n",
       "    </tr>\n",
       "    <tr>\n",
       "      <th>2018-07-01</th>\n",
       "      <td>35911.839286</td>\n",
       "      <td>6.142857</td>\n",
       "      <td>2.142857</td>\n",
       "      <td>26.0</td>\n",
       "      <td>0.000000</td>\n",
       "      <td>0.000000</td>\n",
       "      <td>0.000000</td>\n",
       "      <td>3</td>\n",
       "      <td>-0.347400</td>\n",
       "      <td>-0.639343</td>\n",
       "      <td>...</td>\n",
       "      <td>42</td>\n",
       "      <td>-2200</td>\n",
       "      <td>2588</td>\n",
       "      <td>-1531</td>\n",
       "      <td>1238</td>\n",
       "      <td>2528</td>\n",
       "      <td>563</td>\n",
       "      <td>-2330</td>\n",
       "      <td>1701</td>\n",
       "      <td>4394</td>\n",
       "    </tr>\n",
       "    <tr>\n",
       "      <th>2018-07-08</th>\n",
       "      <td>38459.982143</td>\n",
       "      <td>7.000000</td>\n",
       "      <td>3.000000</td>\n",
       "      <td>27.0</td>\n",
       "      <td>0.142857</td>\n",
       "      <td>0.142857</td>\n",
       "      <td>0.142857</td>\n",
       "      <td>6</td>\n",
       "      <td>0.883255</td>\n",
       "      <td>2.815442</td>\n",
       "      <td>...</td>\n",
       "      <td>-2200</td>\n",
       "      <td>2588</td>\n",
       "      <td>-1531</td>\n",
       "      <td>1238</td>\n",
       "      <td>2528</td>\n",
       "      <td>563</td>\n",
       "      <td>-2330</td>\n",
       "      <td>1701</td>\n",
       "      <td>4394</td>\n",
       "      <td>1200</td>\n",
       "    </tr>\n",
       "    <tr>\n",
       "      <th>2018-07-15</th>\n",
       "      <td>36420.035714</td>\n",
       "      <td>7.000000</td>\n",
       "      <td>3.000000</td>\n",
       "      <td>28.0</td>\n",
       "      <td>0.000000</td>\n",
       "      <td>0.000000</td>\n",
       "      <td>0.000000</td>\n",
       "      <td>7</td>\n",
       "      <td>0.316270</td>\n",
       "      <td>-0.743258</td>\n",
       "      <td>...</td>\n",
       "      <td>2588</td>\n",
       "      <td>-1531</td>\n",
       "      <td>1238</td>\n",
       "      <td>2528</td>\n",
       "      <td>563</td>\n",
       "      <td>-2330</td>\n",
       "      <td>1701</td>\n",
       "      <td>4394</td>\n",
       "      <td>1200</td>\n",
       "      <td>2548</td>\n",
       "    </tr>\n",
       "    <tr>\n",
       "      <th>2018-07-22</th>\n",
       "      <td>35612.095238</td>\n",
       "      <td>7.000000</td>\n",
       "      <td>3.000000</td>\n",
       "      <td>29.0</td>\n",
       "      <td>0.000000</td>\n",
       "      <td>0.000000</td>\n",
       "      <td>0.000000</td>\n",
       "      <td>7</td>\n",
       "      <td>0.354131</td>\n",
       "      <td>-0.750223</td>\n",
       "      <td>...</td>\n",
       "      <td>-1531</td>\n",
       "      <td>1238</td>\n",
       "      <td>2528</td>\n",
       "      <td>563</td>\n",
       "      <td>-2330</td>\n",
       "      <td>1701</td>\n",
       "      <td>4394</td>\n",
       "      <td>1200</td>\n",
       "      <td>2548</td>\n",
       "      <td>-2039</td>\n",
       "    </tr>\n",
       "    <tr>\n",
       "      <th>2018-07-29</th>\n",
       "      <td>36581.821429</td>\n",
       "      <td>7.000000</td>\n",
       "      <td>3.000000</td>\n",
       "      <td>30.0</td>\n",
       "      <td>0.000000</td>\n",
       "      <td>0.000000</td>\n",
       "      <td>0.000000</td>\n",
       "      <td>7</td>\n",
       "      <td>0.391992</td>\n",
       "      <td>-0.757189</td>\n",
       "      <td>...</td>\n",
       "      <td>1238</td>\n",
       "      <td>2528</td>\n",
       "      <td>563</td>\n",
       "      <td>-2330</td>\n",
       "      <td>1701</td>\n",
       "      <td>4394</td>\n",
       "      <td>1200</td>\n",
       "      <td>2548</td>\n",
       "      <td>-2039</td>\n",
       "      <td>-807</td>\n",
       "    </tr>\n",
       "    <tr>\n",
       "      <th>2018-08-05</th>\n",
       "      <td>36568.804124</td>\n",
       "      <td>7.505155</td>\n",
       "      <td>3.000000</td>\n",
       "      <td>31.0</td>\n",
       "      <td>0.000000</td>\n",
       "      <td>0.000000</td>\n",
       "      <td>0.000000</td>\n",
       "      <td>7</td>\n",
       "      <td>0.515233</td>\n",
       "      <td>-0.779693</td>\n",
       "      <td>...</td>\n",
       "      <td>2528</td>\n",
       "      <td>563</td>\n",
       "      <td>-2330</td>\n",
       "      <td>1701</td>\n",
       "      <td>4394</td>\n",
       "      <td>1200</td>\n",
       "      <td>2548</td>\n",
       "      <td>-2039</td>\n",
       "      <td>-807</td>\n",
       "      <td>969</td>\n",
       "    </tr>\n",
       "  </tbody>\n",
       "</table>\n",
       "<p>10 rows × 73 columns</p>\n",
       "</div>"
      ],
      "text/plain": [
       "                 PJME_MW     month   quarter  weekofyear  is_holiday  \\\n",
       "Date                                                                   \n",
       "2018-06-03  30945.601190  5.428571  2.000000        22.0    0.142857   \n",
       "2018-06-10  28615.154762  6.000000  2.000000        23.0    0.000000   \n",
       "2018-06-17  30316.940476  6.000000  2.000000        24.0    0.000000   \n",
       "2018-06-24  34711.648810  6.000000  2.000000        25.0    0.000000   \n",
       "2018-07-01  35911.839286  6.142857  2.142857        26.0    0.000000   \n",
       "2018-07-08  38459.982143  7.000000  3.000000        27.0    0.142857   \n",
       "2018-07-15  36420.035714  7.000000  3.000000        28.0    0.000000   \n",
       "2018-07-22  35612.095238  7.000000  3.000000        29.0    0.000000   \n",
       "2018-07-29  36581.821429  7.000000  3.000000        30.0    0.000000   \n",
       "2018-08-05  36568.804124  7.505155  3.000000        31.0    0.000000   \n",
       "\n",
       "            is_prev_holiday  is_next_holiday  day_week_month      pca1  \\\n",
       "Date                                                                     \n",
       "2018-06-03         0.000000         0.142857               5 -0.427246   \n",
       "2018-06-10         0.000000         0.000000               3 -0.558974   \n",
       "2018-06-17         0.000000         0.000000               3 -0.521113   \n",
       "2018-06-24         0.000000         0.000000               3 -0.483252   \n",
       "2018-07-01         0.000000         0.000000               3 -0.347400   \n",
       "2018-07-08         0.142857         0.142857               6  0.883255   \n",
       "2018-07-15         0.000000         0.000000               7  0.316270   \n",
       "2018-07-22         0.000000         0.000000               7  0.354131   \n",
       "2018-07-29         0.000000         0.000000               7  0.391992   \n",
       "2018-08-05         0.000000         0.000000               7  0.515233   \n",
       "\n",
       "                pca2  ...   d10    d9    d8    d7    d6    d5    d4    d3  \\\n",
       "Date                  ...                                                   \n",
       "2018-06-03  1.222458  ...  -641 -2980   910 -1162    42 -2200  2588 -1531   \n",
       "2018-06-10 -0.603449  ... -2980   910 -1162    42 -2200  2588 -1531  1238   \n",
       "2018-06-17 -0.610414  ...   910 -1162    42 -2200  2588 -1531  1238  2528   \n",
       "2018-06-24 -0.617380  ... -1162    42 -2200  2588 -1531  1238  2528   563   \n",
       "2018-07-01 -0.639343  ...    42 -2200  2588 -1531  1238  2528   563 -2330   \n",
       "2018-07-08  2.815442  ... -2200  2588 -1531  1238  2528   563 -2330  1701   \n",
       "2018-07-15 -0.743258  ...  2588 -1531  1238  2528   563 -2330  1701  4394   \n",
       "2018-07-22 -0.750223  ... -1531  1238  2528   563 -2330  1701  4394  1200   \n",
       "2018-07-29 -0.757189  ...  1238  2528   563 -2330  1701  4394  1200  2548   \n",
       "2018-08-05 -0.779693  ...  2528   563 -2330  1701  4394  1200  2548 -2039   \n",
       "\n",
       "              d2    d1  \n",
       "Date                    \n",
       "2018-06-03  1238  2528  \n",
       "2018-06-10  2528   563  \n",
       "2018-06-17   563 -2330  \n",
       "2018-06-24 -2330  1701  \n",
       "2018-07-01  1701  4394  \n",
       "2018-07-08  4394  1200  \n",
       "2018-07-15  1200  2548  \n",
       "2018-07-22  2548 -2039  \n",
       "2018-07-29 -2039  -807  \n",
       "2018-08-05  -807   969  \n",
       "\n",
       "[10 rows x 73 columns]"
      ]
     },
     "execution_count": 31,
     "metadata": {},
     "output_type": "execute_result"
    }
   ],
   "source": [
    "data_d.tail(10)"
   ]
  },
  {
   "cell_type": "markdown",
   "metadata": {},
   "source": [
    "## Постройте модель предсказания 1-й точки от текущей (h = 1)"
   ]
  },
  {
   "cell_type": "markdown",
   "metadata": {},
   "source": [
    "Запишем итоговую систему признаков и проведем ее анализ. Горизонт прогнозирования h = 1"
   ]
  },
  {
   "cell_type": "code",
   "execution_count": 91,
   "metadata": {
    "ExecuteTime": {
     "end_time": "2020-05-14T12:18:24.434267Z",
     "start_time": "2020-05-14T12:18:24.426984Z"
    }
   },
   "outputs": [
    {
     "data": {
      "text/plain": [
       "(839, 1)"
      ]
     },
     "execution_count": 91,
     "metadata": {},
     "output_type": "execute_result"
    }
   ],
   "source": [
    "scl_target=StandardScaler() \n",
    "# p = 26\n",
    "h=1\n",
    "target = data_d['PJME_MW'].values[h+p:].reshape((data_d.shape[0]-h-p,1))\n",
    "y = scl_target.fit_transform(target)\n",
    "y.shape"
   ]
  },
  {
   "cell_type": "code",
   "execution_count": 92,
   "metadata": {
    "ExecuteTime": {
     "end_time": "2020-05-14T12:18:24.452540Z",
     "start_time": "2020-05-14T12:18:24.436074Z"
    }
   },
   "outputs": [
    {
     "data": {
      "text/plain": [
       "(839, 73)"
      ]
     },
     "execution_count": 92,
     "metadata": {},
     "output_type": "execute_result"
    }
   ],
   "source": [
    "scl_x=StandardScaler() \n",
    "\n",
    "X = data_d.iloc[p:-h,:].values\n",
    "X = scl_x.fit_transform(X.astype('float64'))\n",
    "X.shape"
   ]
  },
  {
   "cell_type": "code",
   "execution_count": 93,
   "metadata": {
    "ExecuteTime": {
     "end_time": "2020-05-14T12:18:24.457093Z",
     "start_time": "2020-05-14T12:18:24.454581Z"
    }
   },
   "outputs": [],
   "source": [
    "X[:26,13]=0"
   ]
  },
  {
   "cell_type": "code",
   "execution_count": 94,
   "metadata": {
    "ExecuteTime": {
     "end_time": "2020-05-14T12:18:24.482981Z",
     "start_time": "2020-05-14T12:18:24.463833Z"
    },
    "scrolled": true
   },
   "outputs": [
    {
     "name": "stdout",
     "output_type": "stream",
     "text": [
      "F-test=0.97,  I=0\n",
      "F-test=0.00,  I=1\n",
      "F-test=0.00,  I=2\n",
      "F-test=0.00,  I=3\n",
      "F-test=0.00,  I=4\n",
      "F-test=0.00,  I=5\n",
      "F-test=0.00,  I=6\n",
      "F-test=0.00,  I=7\n",
      "F-test=0.00,  I=8\n",
      "F-test=0.00,  I=9\n",
      "F-test=0.02,  I=10\n",
      "F-test=0.01,  I=11\n",
      "F-test=1.00,  I=12\n",
      "F-test=0.01,  I=13\n",
      "F-test=0.02,  I=14\n",
      "F-test=0.01,  I=15\n",
      "F-test=0.01,  I=16\n",
      "F-test=0.02,  I=17\n",
      "F-test=0.03,  I=18\n",
      "F-test=0.04,  I=19\n",
      "F-test=0.05,  I=20\n",
      "F-test=0.24,  I=21\n",
      "F-test=0.25,  I=22\n",
      "F-test=0.23,  I=23\n",
      "F-test=0.17,  I=24\n",
      "F-test=0.10,  I=25\n",
      "F-test=0.05,  I=26\n",
      "F-test=0.02,  I=27\n",
      "F-test=0.00,  I=28\n",
      "F-test=0.01,  I=29\n",
      "F-test=0.03,  I=30\n",
      "F-test=0.08,  I=31\n",
      "F-test=0.14,  I=32\n",
      "F-test=0.21,  I=33\n",
      "F-test=0.27,  I=34\n",
      "F-test=0.30,  I=35\n",
      "F-test=0.28,  I=36\n",
      "F-test=0.20,  I=37\n",
      "F-test=0.13,  I=38\n",
      "F-test=0.06,  I=39\n",
      "F-test=0.02,  I=40\n",
      "F-test=0.00,  I=41\n",
      "F-test=0.02,  I=42\n",
      "F-test=0.07,  I=43\n",
      "F-test=0.15,  I=44\n",
      "F-test=0.30,  I=45\n",
      "F-test=0.51,  I=46\n",
      "F-test=0.00,  I=47\n",
      "F-test=0.00,  I=48\n",
      "F-test=0.00,  I=49\n",
      "F-test=0.00,  I=50\n",
      "F-test=0.01,  I=51\n",
      "F-test=0.02,  I=52\n",
      "F-test=0.01,  I=53\n",
      "F-test=0.03,  I=54\n",
      "F-test=0.03,  I=55\n",
      "F-test=0.02,  I=56\n",
      "F-test=0.02,  I=57\n",
      "F-test=0.01,  I=58\n",
      "F-test=0.01,  I=59\n",
      "F-test=0.00,  I=60\n",
      "F-test=0.00,  I=61\n",
      "F-test=0.00,  I=62\n",
      "F-test=0.01,  I=63\n",
      "F-test=0.01,  I=64\n",
      "F-test=0.02,  I=65\n",
      "F-test=0.03,  I=66\n",
      "F-test=0.04,  I=67\n",
      "F-test=0.04,  I=68\n",
      "F-test=0.04,  I=69\n",
      "F-test=0.03,  I=70\n",
      "F-test=0.02,  I=71\n",
      "F-test=0.02,  I=72\n"
     ]
    }
   ],
   "source": [
    "from sklearn.feature_selection import SelectKBest, SelectPercentile\n",
    "from sklearn.feature_selection import SelectFromModel\n",
    "\n",
    "from sklearn.ensemble import GradientBoostingRegressor\n",
    "\n",
    "from sklearn.feature_selection import f_regression, mutual_info_regression\n",
    "\n",
    "f_test, _ = f_regression(X, y.ravel())\n",
    "f_test /= np.max(f_test)\n",
    "for i in range(X.shape[1]):\n",
    "    print(\"F-test={:.2f},  I={}\".format(f_test[i],i))"
   ]
  },
  {
   "cell_type": "code",
   "execution_count": 95,
   "metadata": {
    "ExecuteTime": {
     "end_time": "2020-05-14T12:25:23.230507Z",
     "start_time": "2020-05-14T12:25:23.218879Z"
    }
   },
   "outputs": [
    {
     "data": {
      "text/plain": [
       "('PJME_MW', 'diff1_l', 't1')"
      ]
     },
     "execution_count": 95,
     "metadata": {},
     "output_type": "execute_result"
    }
   ],
   "source": [
    "data_d.columns[0], data_d.columns[12], data_d.columns[46]"
   ]
  },
  {
   "cell_type": "code",
   "execution_count": 96,
   "metadata": {
    "ExecuteTime": {
     "end_time": "2020-05-13T16:41:38.870422Z",
     "start_time": "2020-05-13T16:41:38.862300Z"
    }
   },
   "outputs": [
    {
     "data": {
      "text/plain": [
       "(839, 5)"
      ]
     },
     "execution_count": 96,
     "metadata": {},
     "output_type": "execute_result"
    }
   ],
   "source": [
    "sfk =SelectKBest(f_regression, k=5)\n",
    "X_new1 =sfk.fit_transform(X, y.ravel())\n",
    "X_new1.shape"
   ]
  },
  {
   "cell_type": "code",
   "execution_count": 97,
   "metadata": {
    "ExecuteTime": {
     "end_time": "2020-05-13T16:41:39.172607Z",
     "start_time": "2020-05-13T16:41:39.167835Z"
    }
   },
   "outputs": [
    {
     "data": {
      "text/plain": [
       "Index(['PJME_MW', 'diff1_l', 't12', 't2', 't1'], dtype='object')"
      ]
     },
     "execution_count": 97,
     "metadata": {},
     "output_type": "execute_result"
    }
   ],
   "source": [
    "column_names = data_d.columns[sfk.get_support()]\n",
    "column_names"
   ]
  },
  {
   "cell_type": "code",
   "execution_count": 98,
   "metadata": {
    "ExecuteTime": {
     "end_time": "2020-05-13T16:41:39.829720Z",
     "start_time": "2020-05-13T16:41:39.821318Z"
    }
   },
   "outputs": [
    {
     "data": {
      "text/plain": [
       "(839, 8)"
      ]
     },
     "execution_count": 98,
     "metadata": {},
     "output_type": "execute_result"
    }
   ],
   "source": [
    "sfp=SelectPercentile(f_regression, percentile=10)\n",
    "X_new2 = sfp.fit_transform(X, y.ravel())\n",
    "X_new2.shape"
   ]
  },
  {
   "cell_type": "code",
   "execution_count": 99,
   "metadata": {
    "ExecuteTime": {
     "end_time": "2020-05-13T16:41:40.211031Z",
     "start_time": "2020-05-13T16:41:40.205108Z"
    }
   },
   "outputs": [
    {
     "data": {
      "text/plain": [
       "Index(['PJME_MW', 'diff1_l', 't25', 't13', 't12', 't11', 't2', 't1'], dtype='object')"
      ]
     },
     "execution_count": 99,
     "metadata": {},
     "output_type": "execute_result"
    }
   ],
   "source": [
    "column_namesp = data_d.columns[sfp.get_support()]\n",
    "column_namesp"
   ]
  },
  {
   "cell_type": "code",
   "execution_count": 100,
   "metadata": {
    "ExecuteTime": {
     "end_time": "2020-05-13T16:41:45.661560Z",
     "start_time": "2020-05-13T16:41:40.705238Z"
    }
   },
   "outputs": [
    {
     "data": {
      "text/plain": [
       "(839, 5)"
      ]
     },
     "execution_count": 100,
     "metadata": {},
     "output_type": "execute_result"
    }
   ],
   "source": [
    "gr_model = GradientBoostingRegressor(max_depth=5, random_state=40, n_estimators=100).fit(X, y.ravel())\n",
    "sfm = SelectFromModel(gr_model,  max_features = 5)\n",
    "\n",
    "sfm.fit(X, y.ravel())\n",
    "X_new3 = sfm.transform(X)\n",
    "X_new3.shape"
   ]
  },
  {
   "cell_type": "code",
   "execution_count": 101,
   "metadata": {
    "ExecuteTime": {
     "end_time": "2020-05-13T16:41:45.678038Z",
     "start_time": "2020-05-13T16:41:45.672110Z"
    }
   },
   "outputs": [
    {
     "name": "stdout",
     "output_type": "stream",
     "text": [
      "Номера признаков k лучших признаков :  [ 0 12 35 45 46]\n",
      "Номера признаков лучших признаков по процентной форме:  [ 0 12 22 34 35 36 45 46]\n",
      "Номера признаков для выбора по модели :  [ 0 12 36 38 46]\n"
     ]
    }
   ],
   "source": [
    "list_param_k =np.where(sfk.get_support())[0]\n",
    "list_param_p =np.where(sfp.get_support())[0]\n",
    "list_param_m =np.where(sfm.get_support())[0]\n",
    "\n",
    "print('Номера признаков k лучших признаков : ',list_param_k)\n",
    "print('Номера признаков лучших признаков по процентной форме: ',list_param_p)\n",
    "print('Номера признаков для выбора по модели : ',list_param_m)"
   ]
  },
  {
   "cell_type": "code",
   "execution_count": 102,
   "metadata": {
    "ExecuteTime": {
     "end_time": "2020-05-13T16:41:45.684555Z",
     "start_time": "2020-05-13T16:41:45.681350Z"
    }
   },
   "outputs": [
    {
     "name": "stdout",
     "output_type": "stream",
     "text": [
      "[0, 34, 35, 36, 38, 12, 45, 46, 22]\n"
     ]
    }
   ],
   "source": [
    "list_par = list(list_param_k.copy())\n",
    "list_par.extend(list(list_param_p))\n",
    "list_par.extend(list(list_param_m))\n",
    "list_par = list(set(list_par))\n",
    "print(list_par)"
   ]
  },
  {
   "cell_type": "code",
   "execution_count": 103,
   "metadata": {
    "ExecuteTime": {
     "end_time": "2020-05-13T16:41:48.036307Z",
     "start_time": "2020-05-13T16:41:48.031208Z"
    }
   },
   "outputs": [
    {
     "data": {
      "text/plain": [
       "Index(['PJME_MW', 't13', 't12', 't11', 't9', 'diff1_l', 't2', 't1', 't25'], dtype='object')"
      ]
     },
     "execution_count": 103,
     "metadata": {},
     "output_type": "execute_result"
    }
   ],
   "source": [
    "X_new = X[:,list_par]\n",
    "data_d.columns[list_par]"
   ]
  },
  {
   "cell_type": "markdown",
   "metadata": {},
   "source": [
    "Разделение данных на тестовые и тренировочные "
   ]
  },
  {
   "cell_type": "code",
   "execution_count": 104,
   "metadata": {
    "ExecuteTime": {
     "end_time": "2020-05-13T16:41:48.983501Z",
     "start_time": "2020-05-13T16:41:48.979612Z"
    }
   },
   "outputs": [],
   "source": [
    "# сделаем функцию\n",
    "def split_data( data, split_date ):\n",
    "    return data.loc[data.index.get_level_values('Date') <= split_date].copy(), \\\n",
    "           data.loc[data.index.get_level_values('Date') >  split_date].copy()"
   ]
  },
  {
   "cell_type": "markdown",
   "metadata": {},
   "source": [
    "Для временного ряда \"Потребление энергии\" назначим датой разделения 1/06/2016"
   ]
  },
  {
   "cell_type": "code",
   "execution_count": 105,
   "metadata": {
    "ExecuteTime": {
     "end_time": "2020-05-13T16:41:50.572563Z",
     "start_time": "2020-05-13T16:41:50.319657Z"
    }
   },
   "outputs": [
    {
     "data": {
      "image/png": "[encoded data removed]",
      "text/plain": [
       "<Figure size 1080x504 with 1 Axes>"
      ]
     },
     "metadata": {
      "needs_background": "light"
     },
     "output_type": "display_data"
    }
   ],
   "source": [
    "train, test = split_data( data_d, '01-06-2016')\n",
    "\n",
    "plt.figure( figsize=( 15, 7 ))\n",
    "plt.xlabel('Время')\n",
    "plt.ylabel('Потребление энергии, МВт')\n",
    "plt.plot(train.index.get_level_values('Date'),train['PJME_MW'], label='train data' )\n",
    "plt.plot(test.index.get_level_values('Date'),test['PJME_MW'], label='test data')\n",
    "plt.title( 'Тестовые и тренировочные данные' )\n",
    "plt.legend()\n",
    "plt.show()"
   ]
  },
  {
   "cell_type": "code",
   "execution_count": 106,
   "metadata": {
    "ExecuteTime": {
     "end_time": "2020-05-13T16:41:50.701161Z",
     "start_time": "2020-05-13T16:41:50.697079Z"
    }
   },
   "outputs": [],
   "source": [
    "X_train =X_new[:train.shape[0],:]\n",
    "y_train =y[:train.shape[0],0]\n",
    "X_test =X_new[train.shape[0]:,:]\n",
    "y_test =y[train.shape[0]:,0]"
   ]
  },
  {
   "cell_type": "code",
   "execution_count": 107,
   "metadata": {
    "ExecuteTime": {
     "end_time": "2020-05-13T16:41:51.813366Z",
     "start_time": "2020-05-13T16:41:51.808371Z"
    }
   },
   "outputs": [
    {
     "data": {
      "text/plain": [
       "(731, 73)"
      ]
     },
     "execution_count": 107,
     "metadata": {},
     "output_type": "execute_result"
    }
   ],
   "source": [
    "train.shape"
   ]
  },
  {
   "cell_type": "markdown",
   "metadata": {},
   "source": [
    "При решении задачи на начальном этапе, самый интересный результат был получен на модели GradientBoostingRegressor. Остановимся на построении иенно такой формы предсказания. Все модели возьмем в варианте параметров по умолчанию, кроме глубины деревьев."
   ]
  },
  {
   "cell_type": "code",
   "execution_count": 108,
   "metadata": {
    "ExecuteTime": {
     "end_time": "2020-05-13T16:41:54.672816Z",
     "start_time": "2020-05-13T16:41:54.669884Z"
    }
   },
   "outputs": [],
   "source": [
    "from sklearn.ensemble import GradientBoostingRegressor"
   ]
  },
  {
   "cell_type": "code",
   "execution_count": 109,
   "metadata": {
    "ExecuteTime": {
     "end_time": "2020-05-13T16:41:55.687850Z",
     "start_time": "2020-05-13T16:41:55.684488Z"
    }
   },
   "outputs": [],
   "source": [
    "model_g = GradientBoostingRegressor(max_depth=5, random_state=0, n_estimators=100)"
   ]
  },
  {
   "cell_type": "code",
   "execution_count": 110,
   "metadata": {
    "ExecuteTime": {
     "end_time": "2020-05-13T16:41:57.140969Z",
     "start_time": "2020-05-13T16:41:56.688439Z"
    }
   },
   "outputs": [
    {
     "data": {
      "text/plain": [
       "GradientBoostingRegressor(alpha=0.9, ccp_alpha=0.0, criterion='friedman_mse',\n",
       "                          init=None, learning_rate=0.1, loss='ls', max_depth=5,\n",
       "                          max_features=None, max_leaf_nodes=None,\n",
       "                          min_impurity_decrease=0.0, min_impurity_split=None,\n",
       "                          min_samples_leaf=1, min_samples_split=2,\n",
       "                          min_weight_fraction_leaf=0.0, n_estimators=100,\n",
       "                          n_iter_no_change=None, presort='deprecated',\n",
       "                          random_state=0, subsample=1.0, tol=0.0001,\n",
       "                          validation_fraction=0.1, verbose=0, warm_start=False)"
      ]
     },
     "execution_count": 110,
     "metadata": {},
     "output_type": "execute_result"
    }
   ],
   "source": [
    "model_g.fit( X_train, y_train )"
   ]
  },
  {
   "cell_type": "code",
   "execution_count": 111,
   "metadata": {
    "ExecuteTime": {
     "end_time": "2020-05-13T16:41:59.412152Z",
     "start_time": "2020-05-13T16:41:59.407825Z"
    }
   },
   "outputs": [
    {
     "data": {
      "text/plain": [
       "(108, 9)"
      ]
     },
     "execution_count": 111,
     "metadata": {},
     "output_type": "execute_result"
    }
   ],
   "source": [
    "X_test.shape"
   ]
  },
  {
   "cell_type": "code",
   "execution_count": 112,
   "metadata": {
    "ExecuteTime": {
     "end_time": "2020-05-13T16:41:59.916838Z",
     "start_time": "2020-05-13T16:41:59.911647Z"
    }
   },
   "outputs": [],
   "source": [
    "y_test_pred_g = model_g.predict(X_test)"
   ]
  },
  {
   "cell_type": "code",
   "execution_count": 113,
   "metadata": {
    "ExecuteTime": {
     "end_time": "2020-05-13T16:42:00.557519Z",
     "start_time": "2020-05-13T16:42:00.341703Z"
    }
   },
   "outputs": [
    {
     "data": {
      "image/png": "[encoded data removed]",
      "text/plain": [
       "<Figure size 1080x504 with 1 Axes>"
      ]
     },
     "metadata": {
      "needs_background": "light"
     },
     "output_type": "display_data"
    }
   ],
   "source": [
    "plt.figure( figsize=( 15, 7 ))\n",
    "\n",
    "G = 50\n",
    "plt.xlabel('Время')\n",
    "plt.ylabel('Потребление энергии, МВт')\n",
    "plt.plot(test.index[h+p:-G],y_test_pred_g[:-G], label='predict GB data' )\n",
    "plt.plot(test.index[h+p:-G],y_test[:-G], label='test data')\n",
    "\n",
    "plt.legend()\n",
    "plt.show()"
   ]
  },
  {
   "cell_type": "code",
   "execution_count": 114,
   "metadata": {
    "ExecuteTime": {
     "end_time": "2020-05-13T16:42:03.032256Z",
     "start_time": "2020-05-13T16:42:03.029267Z"
    }
   },
   "outputs": [],
   "source": [
    "from sklearn.metrics import mean_squared_error\n",
    "from sklearn.metrics import mean_absolute_error\n",
    "from sklearn.metrics import r2_score"
   ]
  },
  {
   "cell_type": "code",
   "execution_count": 115,
   "metadata": {
    "ExecuteTime": {
     "end_time": "2020-05-13T16:42:03.624197Z",
     "start_time": "2020-05-13T16:42:03.617889Z"
    }
   },
   "outputs": [
    {
     "name": "stdout",
     "output_type": "stream",
     "text": [
      "ошибка mse :   0.4859609520724213 \n",
      "ошибка mae  :   0.5542678664901742 \n",
      "оценка R2 :   0.5513360166709177\n"
     ]
    }
   ],
   "source": [
    "er_s = mean_squared_error(y_true=y_test, y_pred=y_test_pred_g) \n",
    "er_a = mean_absolute_error(y_true=y_test, y_pred=y_test_pred_g) \n",
    "er_r2 = r2_score(y_true=y_test, y_pred=y_test_pred_g)\n",
    "\n",
    "print('ошибка mse :  ', er_s,'\\nошибка mae  :  ', er_a,'\\nоценка R2 :  ', er_r2)"
   ]
  },
  {
   "cell_type": "code",
   "execution_count": 116,
   "metadata": {
    "ExecuteTime": {
     "end_time": "2020-05-13T16:42:08.569302Z",
     "start_time": "2020-05-13T16:42:08.565710Z"
    }
   },
   "outputs": [],
   "source": [
    "def mean_absolute_percentage_error(y_true, y_pred): \n",
    "    y_true, y_pred = np.array(y_true), np.array(y_pred)\n",
    "    return np.mean(np.abs((y_true - y_pred) / y_true)) * 100"
   ]
  },
  {
   "cell_type": "code",
   "execution_count": 117,
   "metadata": {
    "ExecuteTime": {
     "end_time": "2020-05-13T16:42:08.786230Z",
     "start_time": "2020-05-13T16:42:08.782068Z"
    }
   },
   "outputs": [
    {
     "name": "stdout",
     "output_type": "stream",
     "text": [
      "ошибка градиентного бустинга MAPE :   7.047327331462477 %\n"
     ]
    }
   ],
   "source": [
    "er_g = mean_absolute_percentage_error(y_true=scl_target.inverse_transform( y_test),y_pred = scl_target.inverse_transform( y_test_pred_g))\n",
    "\n",
    "print('ошибка градиентного бустинга MAPE :  ', er_g,'%')"
   ]
  },
  {
   "cell_type": "code",
   "execution_count": 118,
   "metadata": {
    "ExecuteTime": {
     "end_time": "2020-05-13T09:59:19.098783Z",
     "start_time": "2020-05-13T09:55:16.155650Z"
    }
   },
   "outputs": [
    {
     "name": "stdout",
     "output_type": "stream",
     "text": [
      "Model with rank: 1\n",
      "Mean validation score: 0.668 (std: 0.080)\n",
      "Parameters: {'n_estimators': 100, 'max_depth': 3}\n",
      "\n",
      "Model with rank: 2\n",
      "Mean validation score: 0.664 (std: 0.065)\n",
      "Parameters: {'n_estimators': 100, 'max_depth': 4}\n",
      "\n",
      "Model with rank: 3\n",
      "Mean validation score: 0.661 (std: 0.066)\n",
      "Parameters: {'n_estimators': 100, 'max_depth': 2}\n",
      "\n"
     ]
    },
    {
     "name": "stderr",
     "output_type": "stream",
     "text": [
      "D:\\Anaconda3\\lib\\site-packages\\sklearn\\model_selection\\_search.py:823: FutureWarning: The parameter 'iid' is deprecated in 0.22 and will be removed in 0.24.\n",
      "  \"removed in 0.24.\", FutureWarning\n"
     ]
    }
   ],
   "source": [
    "from sklearn.model_selection import RandomizedSearchCV\n",
    "\n",
    "def report(results, n_top=3):\n",
    "    for i in range(1, n_top + 1):\n",
    "        candidates = np.flatnonzero(results['rank_test_score'] == i)\n",
    "        for candidate in candidates:\n",
    "            print(\"Model with rank: {0}\".format(i))\n",
    "            print(\"Mean validation score: {0:.3f} (std: {1:.3f})\".format(\n",
    "                  results['mean_test_score'][candidate],\n",
    "                  results['std_test_score'][candidate]))\n",
    "            print(\"Parameters: {0}\".format(results['params'][candidate]))\n",
    "            print(\"\")\n",
    "\n",
    "param_dist = {\"max_depth\": [3, 2,1,4,5,6,7,8,9,10], \n",
    "              \"n_estimators\":[100,200,300,400,500,600,700,800,900]}\n",
    "\n",
    "#  randomized search\n",
    "n_iter_search = 20\n",
    "\n",
    "model_gr =GradientBoostingRegressor()\n",
    "\n",
    "random_search = RandomizedSearchCV(model_gr, param_distributions=param_dist, n_iter=n_iter_search, cv=5, iid=False)\n",
    "\n",
    "random_search.fit(X_train, y_train)\n",
    "\n",
    "report(random_search.cv_results_)"
   ]
  },
  {
   "cell_type": "markdown",
   "metadata": {},
   "source": [
    "Выбираем модель с рангом 3. {'n_estimators':100, 'max_depth': 2} и проведем ее обучение на тренировочном наборе."
   ]
  },
  {
   "cell_type": "code",
   "execution_count": 119,
   "metadata": {
    "ExecuteTime": {
     "end_time": "2020-05-13T16:42:40.773715Z",
     "start_time": "2020-05-13T16:42:40.173667Z"
    }
   },
   "outputs": [
    {
     "name": "stdout",
     "output_type": "stream",
     "text": [
      "ошибка градиентного бустинга MAPE :   6.496498579938816 %\n"
     ]
    }
   ],
   "source": [
    "model_g_best = GradientBoostingRegressor(max_depth=2,  n_estimators=100)\n",
    "model_g_best.fit( X_train, y_train ) \n",
    "y_test_pred_g = model_g_best.predict(X_test)\n",
    "\n",
    "er_g = mean_absolute_percentage_error(y_true=scl_target.inverse_transform( y_test),\n",
    "                                      y_pred = scl_target.inverse_transform( y_test_pred_g))\n",
    "print('ошибка градиентного бустинга MAPE :  ', er_g,'%')"
   ]
  },
  {
   "cell_type": "markdown",
   "metadata": {},
   "source": [
    " "
   ]
  },
  {
   "cell_type": "markdown",
   "metadata": {},
   "source": [
    "## Постройте модель предсказания 4-й точки от текущей (h = 4)"
   ]
  },
  {
   "cell_type": "markdown",
   "metadata": {},
   "source": [
    "Запишем итоговую систему признаков и проведем ее анализ. Горизонт прогнозирования h = 1"
   ]
  },
  {
   "cell_type": "code",
   "execution_count": 64,
   "metadata": {
    "ExecuteTime": {
     "end_time": "2020-05-14T12:18:24.434267Z",
     "start_time": "2020-05-14T12:18:24.426984Z"
    }
   },
   "outputs": [
    {
     "data": {
      "text/plain": [
       "(836, 1)"
      ]
     },
     "execution_count": 64,
     "metadata": {},
     "output_type": "execute_result"
    }
   ],
   "source": [
    "scl_target=StandardScaler() \n",
    "# p = 26\n",
    "h=4\n",
    "target = data_d['PJME_MW'].values[h+p:].reshape((data_d.shape[0]-h-p,1))\n",
    "y = scl_target.fit_transform(target)\n",
    "y.shape"
   ]
  },
  {
   "cell_type": "code",
   "execution_count": 65,
   "metadata": {
    "ExecuteTime": {
     "end_time": "2020-05-14T12:18:24.452540Z",
     "start_time": "2020-05-14T12:18:24.436074Z"
    }
   },
   "outputs": [
    {
     "data": {
      "text/plain": [
       "(836, 73)"
      ]
     },
     "execution_count": 65,
     "metadata": {},
     "output_type": "execute_result"
    }
   ],
   "source": [
    "scl_x=StandardScaler() \n",
    "\n",
    "X = data_d.iloc[p:-h,:].values\n",
    "X = scl_x.fit_transform(X.astype('float64'))\n",
    "X.shape"
   ]
  },
  {
   "cell_type": "code",
   "execution_count": 66,
   "metadata": {
    "ExecuteTime": {
     "end_time": "2020-05-14T12:18:24.457093Z",
     "start_time": "2020-05-14T12:18:24.454581Z"
    }
   },
   "outputs": [],
   "source": [
    "X[:26,13]=0"
   ]
  },
  {
   "cell_type": "code",
   "execution_count": 67,
   "metadata": {
    "ExecuteTime": {
     "end_time": "2020-05-14T12:18:24.482981Z",
     "start_time": "2020-05-14T12:18:24.463833Z"
    },
    "scrolled": true
   },
   "outputs": [
    {
     "name": "stdout",
     "output_type": "stream",
     "text": [
      "F-test=0.52,  I=0\n",
      "F-test=0.01,  I=1\n",
      "F-test=0.01,  I=2\n",
      "F-test=0.01,  I=3\n",
      "F-test=0.03,  I=4\n",
      "F-test=0.03,  I=5\n",
      "F-test=0.03,  I=6\n",
      "F-test=0.05,  I=7\n",
      "F-test=0.01,  I=8\n",
      "F-test=0.04,  I=9\n",
      "F-test=0.09,  I=10\n",
      "F-test=0.09,  I=11\n",
      "F-test=0.53,  I=12\n",
      "F-test=0.00,  I=13\n",
      "F-test=0.07,  I=14\n",
      "F-test=0.00,  I=15\n",
      "F-test=0.04,  I=16\n",
      "F-test=0.06,  I=17\n",
      "F-test=0.07,  I=18\n",
      "F-test=0.07,  I=19\n",
      "F-test=0.06,  I=20\n",
      "F-test=0.22,  I=21\n",
      "F-test=0.43,  I=22\n",
      "F-test=0.63,  I=23\n",
      "F-test=0.82,  I=24\n",
      "F-test=0.86,  I=25\n",
      "F-test=0.80,  I=26\n",
      "F-test=0.59,  I=27\n",
      "F-test=0.35,  I=28\n",
      "F-test=0.16,  I=29\n",
      "F-test=0.06,  I=30\n",
      "F-test=0.00,  I=31\n",
      "F-test=0.02,  I=32\n",
      "F-test=0.11,  I=33\n",
      "F-test=0.27,  I=34\n",
      "F-test=0.48,  I=35\n",
      "F-test=0.72,  I=36\n",
      "F-test=0.92,  I=37\n",
      "F-test=1.00,  I=38\n",
      "F-test=0.94,  I=39\n",
      "F-test=0.66,  I=40\n",
      "F-test=0.43,  I=41\n",
      "F-test=0.20,  I=42\n",
      "F-test=0.05,  I=43\n",
      "F-test=0.00,  I=44\n",
      "F-test=0.05,  I=45\n",
      "F-test=0.23,  I=46\n",
      "F-test=0.07,  I=47\n",
      "F-test=0.06,  I=48\n",
      "F-test=0.02,  I=49\n",
      "F-test=0.01,  I=50\n",
      "F-test=0.00,  I=51\n",
      "F-test=0.00,  I=52\n",
      "F-test=0.02,  I=53\n",
      "F-test=0.04,  I=54\n",
      "F-test=0.06,  I=55\n",
      "F-test=0.05,  I=56\n",
      "F-test=0.10,  I=57\n",
      "F-test=0.09,  I=58\n",
      "F-test=0.08,  I=59\n",
      "F-test=0.07,  I=60\n",
      "F-test=0.04,  I=61\n",
      "F-test=0.03,  I=62\n",
      "F-test=0.01,  I=63\n",
      "F-test=0.00,  I=64\n",
      "F-test=0.00,  I=65\n",
      "F-test=0.02,  I=66\n",
      "F-test=0.03,  I=67\n",
      "F-test=0.07,  I=68\n",
      "F-test=0.10,  I=69\n",
      "F-test=0.12,  I=70\n",
      "F-test=0.14,  I=71\n",
      "F-test=0.12,  I=72\n"
     ]
    }
   ],
   "source": [
    "f_test, _ = f_regression(X, y.ravel())\n",
    "f_test /= np.max(f_test)\n",
    "for i in range(X.shape[1]):\n",
    "    print(\"F-test={:.2f},  I={}\".format(f_test[i],i))"
   ]
  },
  {
   "cell_type": "code",
   "execution_count": 68,
   "metadata": {
    "ExecuteTime": {
     "end_time": "2020-05-13T16:41:38.870422Z",
     "start_time": "2020-05-13T16:41:38.862300Z"
    }
   },
   "outputs": [
    {
     "data": {
      "text/plain": [
       "(836, 5)"
      ]
     },
     "execution_count": 68,
     "metadata": {},
     "output_type": "execute_result"
    }
   ],
   "source": [
    "sfk =SelectKBest(f_regression, k=5)\n",
    "X_new1 =sfk.fit_transform(X, y.ravel())\n",
    "X_new1.shape"
   ]
  },
  {
   "cell_type": "code",
   "execution_count": 69,
   "metadata": {
    "ExecuteTime": {
     "end_time": "2020-05-13T16:41:39.172607Z",
     "start_time": "2020-05-13T16:41:39.167835Z"
    }
   },
   "outputs": [
    {
     "data": {
      "text/plain": [
       "Index(['t23', 't22', 't10', 't9', 't8'], dtype='object')"
      ]
     },
     "execution_count": 69,
     "metadata": {},
     "output_type": "execute_result"
    }
   ],
   "source": [
    "column_names = data_d.columns[sfk.get_support()]\n",
    "column_names"
   ]
  },
  {
   "cell_type": "code",
   "execution_count": 70,
   "metadata": {
    "ExecuteTime": {
     "end_time": "2020-05-13T16:41:39.829720Z",
     "start_time": "2020-05-13T16:41:39.821318Z"
    }
   },
   "outputs": [
    {
     "data": {
      "text/plain": [
       "(836, 8)"
      ]
     },
     "execution_count": 70,
     "metadata": {},
     "output_type": "execute_result"
    }
   ],
   "source": [
    "sfp=SelectPercentile(f_regression, percentile=10)\n",
    "X_new2 = sfp.fit_transform(X, y.ravel())\n",
    "X_new2.shape"
   ]
  },
  {
   "cell_type": "code",
   "execution_count": 71,
   "metadata": {
    "ExecuteTime": {
     "end_time": "2020-05-13T16:41:40.211031Z",
     "start_time": "2020-05-13T16:41:40.205108Z"
    }
   },
   "outputs": [
    {
     "data": {
      "text/plain": [
       "Index(['t23', 't22', 't21', 't11', 't10', 't9', 't8', 't7'], dtype='object')"
      ]
     },
     "execution_count": 71,
     "metadata": {},
     "output_type": "execute_result"
    }
   ],
   "source": [
    "column_namesp = data_d.columns[sfp.get_support()]\n",
    "column_namesp"
   ]
  },
  {
   "cell_type": "code",
   "execution_count": 72,
   "metadata": {
    "ExecuteTime": {
     "end_time": "2020-05-13T16:41:45.661560Z",
     "start_time": "2020-05-13T16:41:40.705238Z"
    }
   },
   "outputs": [
    {
     "data": {
      "text/plain": [
       "(836, 5)"
      ]
     },
     "execution_count": 72,
     "metadata": {},
     "output_type": "execute_result"
    }
   ],
   "source": [
    "gr_model = GradientBoostingRegressor(max_depth=5, random_state=40, n_estimators=100).fit(X, y.ravel())\n",
    "sfm = SelectFromModel(gr_model,  max_features = 5)\n",
    "\n",
    "sfm.fit(X, y.ravel())\n",
    "X_new3 = sfm.transform(X)\n",
    "X_new3.shape"
   ]
  },
  {
   "cell_type": "code",
   "execution_count": 73,
   "metadata": {
    "ExecuteTime": {
     "end_time": "2020-05-13T16:41:45.678038Z",
     "start_time": "2020-05-13T16:41:45.672110Z"
    }
   },
   "outputs": [
    {
     "name": "stdout",
     "output_type": "stream",
     "text": [
      "Номера признаков k лучших признаков :  [24 25 37 38 39]\n",
      "Номера признаков лучших признаков по процентной форме:  [24 25 26 36 37 38 39 40]\n",
      "Номера признаков для выбора по модели :  [ 1 24 25 38 39]\n"
     ]
    }
   ],
   "source": [
    "list_param_k =np.where(sfk.get_support())[0]\n",
    "list_param_p =np.where(sfp.get_support())[0]\n",
    "list_param_m =np.where(sfm.get_support())[0]\n",
    "\n",
    "print('Номера признаков k лучших признаков : ',list_param_k)\n",
    "print('Номера признаков лучших признаков по процентной форме: ',list_param_p)\n",
    "print('Номера признаков для выбора по модели : ',list_param_m)"
   ]
  },
  {
   "cell_type": "code",
   "execution_count": 74,
   "metadata": {
    "ExecuteTime": {
     "end_time": "2020-05-13T16:41:45.684555Z",
     "start_time": "2020-05-13T16:41:45.681350Z"
    }
   },
   "outputs": [
    {
     "name": "stdout",
     "output_type": "stream",
     "text": [
      "[1, 36, 37, 38, 39, 40, 24, 25, 26]\n"
     ]
    }
   ],
   "source": [
    "list_par = list(list_param_k.copy())\n",
    "list_par.extend(list(list_param_p))\n",
    "list_par.extend(list(list_param_m))\n",
    "list_par = list(set(list_par))\n",
    "print(list_par)"
   ]
  },
  {
   "cell_type": "code",
   "execution_count": 75,
   "metadata": {
    "ExecuteTime": {
     "end_time": "2020-05-13T16:41:48.036307Z",
     "start_time": "2020-05-13T16:41:48.031208Z"
    }
   },
   "outputs": [
    {
     "data": {
      "text/plain": [
       "Index(['month', 't11', 't10', 't9', 't8', 't7', 't23', 't22', 't21'], dtype='object')"
      ]
     },
     "execution_count": 75,
     "metadata": {},
     "output_type": "execute_result"
    }
   ],
   "source": [
    "X_new = X[:,list_par]\n",
    "data_d.columns[list_par]"
   ]
  },
  {
   "cell_type": "markdown",
   "metadata": {},
   "source": [
    "Разделение данных на тестовые и тренировочные "
   ]
  },
  {
   "cell_type": "markdown",
   "metadata": {},
   "source": [
    "Для временного ряда \"Потребление энергии\" назначим датой разделения 1/06/2016"
   ]
  },
  {
   "cell_type": "code",
   "execution_count": 76,
   "metadata": {
    "ExecuteTime": {
     "end_time": "2020-05-13T16:41:50.572563Z",
     "start_time": "2020-05-13T16:41:50.319657Z"
    }
   },
   "outputs": [
    {
     "data": {
      "image/png": "[encoded data removed]",
      "text/plain": [
       "<Figure size 1080x504 with 1 Axes>"
      ]
     },
     "metadata": {
      "needs_background": "light"
     },
     "output_type": "display_data"
    }
   ],
   "source": [
    "train, test = split_data( data_d, '01-06-2016')\n",
    "\n",
    "plt.figure( figsize=( 15, 7 ))\n",
    "plt.xlabel('Время')\n",
    "plt.ylabel('Потребление энергии, МВт')\n",
    "plt.plot(train.index.get_level_values('Date'),train['PJME_MW'], label='train data' )\n",
    "plt.plot(test.index.get_level_values('Date'),test['PJME_MW'], label='test data')\n",
    "plt.title( 'Тестовые и тренировочные данные' )\n",
    "plt.legend()\n",
    "plt.show()"
   ]
  },
  {
   "cell_type": "code",
   "execution_count": 77,
   "metadata": {
    "ExecuteTime": {
     "end_time": "2020-05-13T16:41:50.701161Z",
     "start_time": "2020-05-13T16:41:50.697079Z"
    }
   },
   "outputs": [],
   "source": [
    "X_train =X_new[:train.shape[0],:]\n",
    "y_train =y[:train.shape[0],0]\n",
    "X_test =X_new[train.shape[0]:,:]\n",
    "y_test =y[train.shape[0]:,0]"
   ]
  },
  {
   "cell_type": "code",
   "execution_count": 78,
   "metadata": {
    "ExecuteTime": {
     "end_time": "2020-05-13T16:41:51.813366Z",
     "start_time": "2020-05-13T16:41:51.808371Z"
    }
   },
   "outputs": [
    {
     "data": {
      "text/plain": [
       "(731, 73)"
      ]
     },
     "execution_count": 78,
     "metadata": {},
     "output_type": "execute_result"
    }
   ],
   "source": [
    "train.shape"
   ]
  },
  {
   "cell_type": "markdown",
   "metadata": {},
   "source": [
    "При решении задачи на начальном этапе, самый интересный результат был получен на модели GradientBoostingRegressor. Остановимся на построении иенно такой формы предсказания. Все модели возьмем в варианте параметров по умолчанию, кроме глубины деревьев."
   ]
  },
  {
   "cell_type": "code",
   "execution_count": 79,
   "metadata": {
    "ExecuteTime": {
     "end_time": "2020-05-13T16:41:55.687850Z",
     "start_time": "2020-05-13T16:41:55.684488Z"
    }
   },
   "outputs": [],
   "source": [
    "model_g = GradientBoostingRegressor(max_depth=5, random_state=0, n_estimators=100)"
   ]
  },
  {
   "cell_type": "code",
   "execution_count": 80,
   "metadata": {
    "ExecuteTime": {
     "end_time": "2020-05-13T16:41:57.140969Z",
     "start_time": "2020-05-13T16:41:56.688439Z"
    }
   },
   "outputs": [
    {
     "data": {
      "text/plain": [
       "GradientBoostingRegressor(alpha=0.9, ccp_alpha=0.0, criterion='friedman_mse',\n",
       "                          init=None, learning_rate=0.1, loss='ls', max_depth=5,\n",
       "                          max_features=None, max_leaf_nodes=None,\n",
       "                          min_impurity_decrease=0.0, min_impurity_split=None,\n",
       "                          min_samples_leaf=1, min_samples_split=2,\n",
       "                          min_weight_fraction_leaf=0.0, n_estimators=100,\n",
       "                          n_iter_no_change=None, presort='deprecated',\n",
       "                          random_state=0, subsample=1.0, tol=0.0001,\n",
       "                          validation_fraction=0.1, verbose=0, warm_start=False)"
      ]
     },
     "execution_count": 80,
     "metadata": {},
     "output_type": "execute_result"
    }
   ],
   "source": [
    "model_g.fit( X_train, y_train )"
   ]
  },
  {
   "cell_type": "code",
   "execution_count": 81,
   "metadata": {
    "ExecuteTime": {
     "end_time": "2020-05-13T16:41:59.412152Z",
     "start_time": "2020-05-13T16:41:59.407825Z"
    }
   },
   "outputs": [
    {
     "data": {
      "text/plain": [
       "(105, 9)"
      ]
     },
     "execution_count": 81,
     "metadata": {},
     "output_type": "execute_result"
    }
   ],
   "source": [
    "X_test.shape"
   ]
  },
  {
   "cell_type": "code",
   "execution_count": 82,
   "metadata": {
    "ExecuteTime": {
     "end_time": "2020-05-13T16:41:59.916838Z",
     "start_time": "2020-05-13T16:41:59.911647Z"
    }
   },
   "outputs": [],
   "source": [
    "y_test_pred_g = model_g.predict(X_test)"
   ]
  },
  {
   "cell_type": "code",
   "execution_count": 83,
   "metadata": {
    "ExecuteTime": {
     "end_time": "2020-05-13T16:42:00.557519Z",
     "start_time": "2020-05-13T16:42:00.341703Z"
    }
   },
   "outputs": [
    {
     "data": {
      "image/png": "[encoded data removed]",
      "text/plain": [
       "<Figure size 1080x504 with 1 Axes>"
      ]
     },
     "metadata": {
      "needs_background": "light"
     },
     "output_type": "display_data"
    }
   ],
   "source": [
    "plt.figure( figsize=( 15, 7 ))\n",
    "\n",
    "G = 50\n",
    "plt.xlabel('Время')\n",
    "plt.ylabel('Потребление энергии, МВт')\n",
    "plt.plot(test.index[h+p:-G],y_test_pred_g[:-G], label='predict GB data' )\n",
    "plt.plot(test.index[h+p:-G],y_test[:-G], label='test data')\n",
    "\n",
    "plt.legend()\n",
    "plt.show()"
   ]
  },
  {
   "cell_type": "code",
   "execution_count": 84,
   "metadata": {
    "ExecuteTime": {
     "end_time": "2020-05-13T16:42:03.624197Z",
     "start_time": "2020-05-13T16:42:03.617889Z"
    }
   },
   "outputs": [
    {
     "name": "stdout",
     "output_type": "stream",
     "text": [
      "ошибка mse :   0.6629634512573347 \n",
      "ошибка mae  :   0.6069235402595722 \n",
      "оценка R2 :   0.33089047158903384\n"
     ]
    }
   ],
   "source": [
    "er_s = mean_squared_error(y_true=y_test, y_pred=y_test_pred_g) \n",
    "er_a = mean_absolute_error(y_true=y_test, y_pred=y_test_pred_g) \n",
    "er_r2 = r2_score(y_true=y_test, y_pred=y_test_pred_g)\n",
    "\n",
    "print('ошибка mse :  ', er_s,'\\nошибка mae  :  ', er_a,'\\nоценка R2 :  ', er_r2)"
   ]
  },
  {
   "cell_type": "code",
   "execution_count": 85,
   "metadata": {
    "ExecuteTime": {
     "end_time": "2020-05-13T16:42:08.786230Z",
     "start_time": "2020-05-13T16:42:08.782068Z"
    }
   },
   "outputs": [
    {
     "name": "stdout",
     "output_type": "stream",
     "text": [
      "ошибка градиентного бустинга MAPE :   7.679890630949923 %\n"
     ]
    }
   ],
   "source": [
    "er_g = mean_absolute_percentage_error(y_true=scl_target.inverse_transform( y_test),y_pred = scl_target.inverse_transform( y_test_pred_g))\n",
    "\n",
    "print('ошибка градиентного бустинга MAPE :  ', er_g,'%')"
   ]
  },
  {
   "cell_type": "code",
   "execution_count": 86,
   "metadata": {
    "ExecuteTime": {
     "end_time": "2020-05-13T09:59:19.098783Z",
     "start_time": "2020-05-13T09:55:16.155650Z"
    }
   },
   "outputs": [
    {
     "name": "stdout",
     "output_type": "stream",
     "text": [
      "Model with rank: 1\n",
      "Mean validation score: 0.566 (std: 0.087)\n",
      "Parameters: {'n_estimators': 100, 'max_depth': 1}\n",
      "\n",
      "Model with rank: 2\n",
      "Mean validation score: 0.553 (std: 0.127)\n",
      "Parameters: {'n_estimators': 800, 'max_depth': 1}\n",
      "\n",
      "Model with rank: 3\n",
      "Mean validation score: 0.550 (std: 0.133)\n",
      "Parameters: {'n_estimators': 200, 'max_depth': 3}\n",
      "\n"
     ]
    },
    {
     "name": "stderr",
     "output_type": "stream",
     "text": [
      "D:\\Anaconda3\\lib\\site-packages\\sklearn\\model_selection\\_search.py:823: FutureWarning: The parameter 'iid' is deprecated in 0.22 and will be removed in 0.24.\n",
      "  \"removed in 0.24.\", FutureWarning\n"
     ]
    }
   ],
   "source": [
    "param_dist = {\"max_depth\": [3, 2,1,4,5,6,7,8,9,10], \n",
    "              \"n_estimators\":[100,200,300,400,500,600,700,800,900]}\n",
    "\n",
    "#  randomized search\n",
    "n_iter_search = 20\n",
    "\n",
    "model_gr =GradientBoostingRegressor()\n",
    "\n",
    "random_search = RandomizedSearchCV(model_gr, param_distributions=param_dist, n_iter=n_iter_search, cv=5, iid=False)\n",
    "\n",
    "random_search.fit(X_train, y_train)\n",
    "\n",
    "report(random_search.cv_results_)"
   ]
  },
  {
   "cell_type": "markdown",
   "metadata": {},
   "source": [
    "Выбираем модель с рангом 2. {'n_estimators':800, 'max_depth': 1} и проведем ее обучение на тренировочном наборе."
   ]
  },
  {
   "cell_type": "code",
   "execution_count": 87,
   "metadata": {
    "ExecuteTime": {
     "end_time": "2020-05-13T16:42:40.773715Z",
     "start_time": "2020-05-13T16:42:40.173667Z"
    }
   },
   "outputs": [
    {
     "name": "stdout",
     "output_type": "stream",
     "text": [
      "ошибка градиентного бустинга MAPE :   6.97547542324587 %\n"
     ]
    }
   ],
   "source": [
    "model_g_best = GradientBoostingRegressor(max_depth=1,  n_estimators=800)\n",
    "model_g_best.fit( X_train, y_train ) \n",
    "y_test_pred_g = model_g_best.predict(X_test)\n",
    "\n",
    "er_g = mean_absolute_percentage_error(y_true=scl_target.inverse_transform( y_test),\n",
    "                                      y_pred = scl_target.inverse_transform( y_test_pred_g))\n",
    "print('ошибка градиентного бустинга MAPE :  ', er_g,'%')"
   ]
  },
  {
   "cell_type": "markdown",
   "metadata": {},
   "source": [
    " "
   ]
  },
  {
   "cell_type": "markdown",
   "metadata": {},
   "source": [
    " "
   ]
  },
  {
   "cell_type": "markdown",
   "metadata": {},
   "source": [
    " "
   ]
  },
  {
   "cell_type": "markdown",
   "metadata": {},
   "source": [
    "При увеличении горизонта прогноза точность прогноза упала, но не сильно."
   ]
  },
  {
   "cell_type": "markdown",
   "metadata": {},
   "source": [
    " "
   ]
  },
  {
   "cell_type": "markdown",
   "metadata": {},
   "source": [
    " "
   ]
  },
  {
   "cell_type": "markdown",
   "metadata": {},
   "source": [
    " "
   ]
  },
  {
   "cell_type": "markdown",
   "metadata": {},
   "source": [
    " "
   ]
  },
  {
   "cell_type": "markdown",
   "metadata": {},
   "source": [
    "## Примените авторекурсию и сравните результат в 4-й точке путем прямого моделирования и путем рекурсивного моделирования на длине выборки из 4-х точек."
   ]
  },
  {
   "cell_type": "code",
   "execution_count": 120,
   "metadata": {
    "ExecuteTime": {
     "end_time": "2020-05-13T18:38:05.813152Z",
     "start_time": "2020-05-13T18:38:05.551587Z"
    },
    "scrolled": false
   },
   "outputs": [
    {
     "data": {
      "image/png": "[encoded data removed]",
      "text/plain": [
       "<Figure size 1080x504 with 1 Axes>"
      ]
     },
     "metadata": {
      "needs_background": "light"
     },
     "output_type": "display_data"
    }
   ],
   "source": [
    "# h=1\n",
    "\n",
    "#['PJME_MW', 't13', 't12', 't11', 't9', 'diff1_l', 't2', 't1', 't25']\n",
    "#   0          1      2      3      4       5        6     7     8\n",
    "\n",
    "X_test_100 = X_test.copy()\n",
    "y_test_100 = y_test_pred_g.copy()\n",
    "N10 = 4\n",
    "for i in range(N10):\n",
    "    y_test_100[i] = model_g_best.predict(X_test_100[i,:].reshape((1,9)))\n",
    "   \n",
    "    \n",
    "    # заполняем вектор для прогноза следующей точки\n",
    "    X_test_100[i+1,0] = y_test_100[i]\n",
    "    X_test_100[i+1,1] = X_test_100[i-13 + 1,0]\n",
    "    X_test_100[i+1,2] = X_test_100[i-12 + 1,0]\n",
    "    X_test_100[i+1,3] = X_test_100[i-11 + 1,0]\n",
    "    X_test_100[i+1,4] = X_test_100[i-9 + 1,0]\n",
    "    X_test_100[i+1,5] = (np.log(scl_target.inverse_transform(y_test_100[i:i+1])) - scl_x.mean_[12]) / scl_x.scale_[12]\n",
    "    X_test_100[i+1,6] = X_test_100[i-2 + 1,0]\n",
    "    X_test_100[i+1,7] = X_test_100[i-1 + 1,0]\n",
    "    X_test_100[i+1,8] = X_test_100[i-25 + 1,0]\n",
    "\n",
    "    \n",
    "plt.figure( figsize=( 15, 7 ))\n",
    "\n",
    "plt.xlabel('Время')\n",
    "plt.ylabel('Потребление энергии, МВт')\n",
    "plt.plot(test.index[1:N10+1],y_test_pred_g[:N10], 'r',label='predict GB data' )\n",
    "plt.plot(test.index[1:N10+1],y_test[:N10], 'g',label='test data', alpha=0.5)\n",
    "plt.plot(test.index[1:N10+1],y_test_100[:N10], '--r',label='slide predict data')\n",
    "\n",
    "plt.legend()\n",
    "plt.show()    "
   ]
  },
  {
   "cell_type": "code",
   "execution_count": 121,
   "metadata": {
    "ExecuteTime": {
     "end_time": "2020-05-13T16:43:32.309116Z",
     "start_time": "2020-05-13T16:43:32.304532Z"
    }
   },
   "outputs": [
    {
     "name": "stdout",
     "output_type": "stream",
     "text": [
      "ошибка градиентного бустинга MAPE :   6.591757262832008 %\n"
     ]
    }
   ],
   "source": [
    "er_g = mean_absolute_percentage_error(y_true=scl_target.inverse_transform( y_test[:N10]),y_pred = scl_target.inverse_transform( y_test_100[:N10]))\n",
    "print('ошибка градиентного бустинга MAPE :  ', er_g,'%')"
   ]
  },
  {
   "cell_type": "code",
   "execution_count": 122,
   "metadata": {
    "ExecuteTime": {
     "end_time": "2020-05-13T16:43:36.220187Z",
     "start_time": "2020-05-13T16:43:36.213677Z"
    }
   },
   "outputs": [
    {
     "name": "stdout",
     "output_type": "stream",
     "text": [
      "ошибка рекурсивной модели на отрезке 0 : 10   MAPE :   14.431226584026785 %\n",
      "ошибка рекурсивной модели на отрезке 10 : 20   MAPE :   5.546793896410283 %\n",
      "ошибка рекурсивной модели на отрезке 20 : 30   MAPE :   12.394927119358215 %\n",
      "ошибка рекурсивной модели на отрезке 30 : 40   MAPE :   9.428597748813525 %\n",
      "ошибка рекурсивной модели на отрезке 40 : 50   MAPE :   10.179327851578527 %\n"
     ]
    }
   ],
   "source": [
    "for j in [0,10,20,30,40]:\n",
    "    er_100j = mean_absolute_percentage_error(y_true=scl_target.inverse_transform( y_test[j:j+10]),y_pred = scl_target.inverse_transform( y_test_100[p+1+j:j+10+p+1]))\n",
    "\n",
    "    print('ошибка рекурсивной модели на отрезке',j,':',j+10,'  MAPE :  ', er_100j,'%')"
   ]
  },
  {
   "cell_type": "code",
   "execution_count": 88,
   "metadata": {},
   "outputs": [
    {
     "data": {
      "image/png": "[encoded data removed]",
      "text/plain": [
       "<Figure size 1080x504 with 1 Axes>"
      ]
     },
     "metadata": {
      "needs_background": "light"
     },
     "output_type": "display_data"
    }
   ],
   "source": [
    "# h=4\n",
    "\n",
    "#['month', 't11', 't10', 't9', 't8', 't7', 't23', 't22', 't21']\n",
    "#   0        1      2     3     4     5      6      7      8\n",
    "\n",
    "X_test_100 = X_test.copy()\n",
    "y_test_100 = y_test_pred_g.copy()\n",
    "N10 = 4\n",
    "for i in range(N10):\n",
    "    y_test_100[i] = model_g_best.predict(X_test_100[i,:].reshape((1,9)))\n",
    "   \n",
    "    \n",
    "    # заполняем вектор для прогноза следующей точки\n",
    "    if not i%4:\n",
    "        X_test_100[i+1,0] = X_test_100[i,0] + 1\n",
    "    X_test_100[i+1,1] = X_test_100[i-11 + 1,0]\n",
    "    X_test_100[i+1,2] = X_test_100[i-10 + 1,0]\n",
    "    X_test_100[i+1,3] = X_test_100[i-9 + 1,0]\n",
    "    X_test_100[i+1,4] = X_test_100[i-8 + 1,0]\n",
    "    X_test_100[i+1,5] = X_test_100[i-7 + 1,0]\n",
    "    X_test_100[i+1,6] = X_test_100[i-23 + 1,0]\n",
    "    X_test_100[i+1,7] = X_test_100[i-22 + 1,0]\n",
    "    X_test_100[i+1,8] = X_test_100[i-21 + 1,0]\n",
    "\n",
    "    \n",
    "plt.figure( figsize=( 15, 7 ))\n",
    "\n",
    "plt.xlabel('Время')\n",
    "plt.ylabel('Потребление энергии, МВт')\n",
    "plt.plot(test.index[1:N10+1],y_test_pred_g[:N10], 'r',label='predict GB data' )\n",
    "plt.plot(test.index[1:N10+1],y_test[:N10], 'g',label='test data', alpha=0.5)\n",
    "plt.plot(test.index[1:N10+1],y_test_100[:N10], '--r',label='slide predict data')\n",
    "\n",
    "plt.legend()\n",
    "plt.show()    "
   ]
  },
  {
   "cell_type": "code",
   "execution_count": 89,
   "metadata": {
    "ExecuteTime": {
     "end_time": "2020-05-13T16:43:32.309116Z",
     "start_time": "2020-05-13T16:43:32.304532Z"
    }
   },
   "outputs": [
    {
     "name": "stdout",
     "output_type": "stream",
     "text": [
      "ошибка градиентного бустинга MAPE :   17.41671904632919 %\n"
     ]
    }
   ],
   "source": [
    "er_g = mean_absolute_percentage_error(y_true=scl_target.inverse_transform( y_test[:N10]),y_pred = scl_target.inverse_transform( y_test_100[:N10]))\n",
    "print('ошибка градиентного бустинга MAPE :  ', er_g,'%')"
   ]
  },
  {
   "cell_type": "code",
   "execution_count": 90,
   "metadata": {
    "ExecuteTime": {
     "end_time": "2020-05-13T16:43:36.220187Z",
     "start_time": "2020-05-13T16:43:36.213677Z"
    }
   },
   "outputs": [
    {
     "name": "stdout",
     "output_type": "stream",
     "text": [
      "ошибка рекурсивной модели на отрезке 0 : 10   MAPE :   8.659902580244932 %\n",
      "ошибка рекурсивной модели на отрезке 10 : 20   MAPE :   7.015811846175804 %\n",
      "ошибка рекурсивной модели на отрезке 20 : 30   MAPE :   15.900891121568892 %\n",
      "ошибка рекурсивной модели на отрезке 30 : 40   MAPE :   5.0924873127509045 %\n",
      "ошибка рекурсивной модели на отрезке 40 : 50   MAPE :   11.004250977312173 %\n"
     ]
    }
   ],
   "source": [
    "for j in [0,10,20,30,40]:\n",
    "    er_100j = mean_absolute_percentage_error(y_true=scl_target.inverse_transform( y_test[j:j+10]),y_pred = scl_target.inverse_transform( y_test_100[p+1+j:j+10+p+1]))\n",
    "\n",
    "    print('ошибка рекурсивной модели на отрезке',j,':',j+10,'  MAPE :  ', er_100j,'%')"
   ]
  },
  {
   "cell_type": "code",
   "execution_count": null,
   "metadata": {},
   "outputs": [],
   "source": []
  }
 ],
 "metadata": {
  "kernelspec": {
   "display_name": "Python 3",
   "language": "python",
   "name": "python3"
  },
  "language_info": {
   "codemirror_mode": {
    "name": "ipython",
    "version": 3
   },
   "file_extension": ".py",
   "mimetype": "text/x-python",
   "name": "python",
   "nbconvert_exporter": "python",
   "pygments_lexer": "ipython3",
   "version": "3.7.3"
  },
  "toc": {
   "base_numbering": 1,
   "nav_menu": {},
   "number_sections": true,
   "sideBar": true,
   "skip_h1_title": false,
   "title_cell": "Table of Contents",
   "title_sidebar": "Contents",
   "toc_cell": false,
   "toc_position": {},
   "toc_section_display": true,
   "toc_window_display": false
  }
 },
 "nbformat": 4,
 "nbformat_minor": 1
}
